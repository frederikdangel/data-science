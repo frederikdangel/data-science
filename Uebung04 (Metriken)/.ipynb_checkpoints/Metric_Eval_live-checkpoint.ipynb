{
 "cells": [
  {
   "cell_type": "code",
   "execution_count": 1,
   "metadata": {},
   "outputs": [],
   "source": [
    "import numpy as np\n",
    "import matplotlib.pyplot as plt\n",
    "import pandas as pd\n",
    "import random as random"
   ]
  },
  {
   "cell_type": "code",
   "execution_count": 2,
   "metadata": {},
   "outputs": [],
   "source": [
    "def gen_data(N, probs=True): \n",
    "    positives = N//10\n",
    "    negatives = N-positives\n",
    "    np.random.seed(7)\n",
    "    x_neg = np.random.randn(N*3)*0.1+0.0\n",
    "    x_neg = x_neg[x_neg>=0]\n",
    "    x_neg = x_neg[x_neg<=1]  \n",
    "    x_neg = x_neg[range(0,negatives)]\n",
    "    \n",
    "    x_pos = np.random.randn(3*positives)*0.1+0.8\n",
    "    x_pos = x_pos[x_pos>=0]\n",
    "    x_pos = x_pos[x_pos<=1]  \n",
    "    x_pos = x_pos[range(0,positives)]\n",
    "    \n",
    "    df = pd.DataFrame({\n",
    "        'score':[*x_pos, *x_neg] , \n",
    "        'true_class': [*np.zeros(negatives),*np.ones(positives)]\n",
    "    })\n",
    "    for i in range(0,negatives+positives):\n",
    "        if (random.random()<df.loc[i,'score']):\n",
    "            df.loc[i,'true_class']=1\n",
    "        else:\n",
    "            df.loc[i,'true_class']=0 \n",
    "    if (probs==False):\n",
    "        df['score']=df['score']*df['score']\n",
    "        np.random.seed(1) # other seed for different reshuffling\n",
    "    df = df.sample(frac=1).reset_index(drop=True)\n",
    "    \n",
    "    return df\n",
    "    \n",
    "    "
   ]
  },
  {
   "cell_type": "code",
   "execution_count": 3,
   "metadata": {},
   "outputs": [],
   "source": [
    "#N=10000\n",
    "#df=gen_data(N, True)\n",
    "#df.to_csv('probabilistic.csv')\n",
    "#df_u=gen_data(N, False)\n",
    "#df_u.to_csv('uncalibrated.csv')\n",
    "#df=gen_data(N, True)\n",
    "#df['dumb_score']=np.random.random(N)"
   ]
  },
  {
   "cell_type": "code",
   "execution_count": 4,
   "metadata": {},
   "outputs": [],
   "source": [
    "df=pd.read_csv('probabilistic.csv')\n",
    "df_u=pd.read_csv('uncalibrated.csv')"
   ]
  },
  {
   "cell_type": "code",
   "execution_count": 5,
   "metadata": {},
   "outputs": [
    {
     "data": {
      "text/html": [
       "<div>\n",
       "<style scoped>\n",
       "    .dataframe tbody tr th:only-of-type {\n",
       "        vertical-align: middle;\n",
       "    }\n",
       "\n",
       "    .dataframe tbody tr th {\n",
       "        vertical-align: top;\n",
       "    }\n",
       "\n",
       "    .dataframe thead th {\n",
       "        text-align: right;\n",
       "    }\n",
       "</style>\n",
       "<table border=\"1\" class=\"dataframe\">\n",
       "  <thead>\n",
       "    <tr style=\"text-align: right;\">\n",
       "      <th></th>\n",
       "      <th>Unnamed: 0</th>\n",
       "      <th>score</th>\n",
       "      <th>true_class</th>\n",
       "    </tr>\n",
       "  </thead>\n",
       "  <tbody>\n",
       "    <tr>\n",
       "      <th>0</th>\n",
       "      <td>0</td>\n",
       "      <td>0.018584</td>\n",
       "      <td>0.0</td>\n",
       "    </tr>\n",
       "    <tr>\n",
       "      <th>1</th>\n",
       "      <td>1</td>\n",
       "      <td>0.068129</td>\n",
       "      <td>1.0</td>\n",
       "    </tr>\n",
       "    <tr>\n",
       "      <th>2</th>\n",
       "      <td>2</td>\n",
       "      <td>0.047404</td>\n",
       "      <td>0.0</td>\n",
       "    </tr>\n",
       "    <tr>\n",
       "      <th>3</th>\n",
       "      <td>3</td>\n",
       "      <td>0.795831</td>\n",
       "      <td>1.0</td>\n",
       "    </tr>\n",
       "    <tr>\n",
       "      <th>4</th>\n",
       "      <td>4</td>\n",
       "      <td>0.013611</td>\n",
       "      <td>0.0</td>\n",
       "    </tr>\n",
       "  </tbody>\n",
       "</table>\n",
       "</div>"
      ],
      "text/plain": [
       "   Unnamed: 0     score  true_class\n",
       "0           0  0.018584         0.0\n",
       "1           1  0.068129         1.0\n",
       "2           2  0.047404         0.0\n",
       "3           3  0.795831         1.0\n",
       "4           4  0.013611         0.0"
      ]
     },
     "execution_count": 5,
     "metadata": {},
     "output_type": "execute_result"
    }
   ],
   "source": [
    "df.head()"
   ]
  },
  {
   "cell_type": "code",
   "execution_count": 6,
   "metadata": {},
   "outputs": [
    {
     "data": {
      "text/plain": [
       "0.24471299093655588"
      ]
     },
     "execution_count": 6,
     "metadata": {},
     "output_type": "execute_result"
    }
   ],
   "source": [
    "df.loc[df['score'].between(0.2,0.3),'true_class'].mean()"
   ]
  },
  {
   "cell_type": "code",
   "execution_count": 7,
   "metadata": {},
   "outputs": [
    {
     "data": {
      "image/png": "[encoded data removed]",
      "text/plain": [
       "<Figure size 432x288 with 1 Axes>"
      ]
     },
     "metadata": {
      "needs_background": "light"
     },
     "output_type": "display_data"
    }
   ],
   "source": [
    "plt.hist(df['score'],50);plt.xlabel('score');plt.ylabel('frequency');"
   ]
  },
  {
   "cell_type": "code",
   "execution_count": 8,
   "metadata": {},
   "outputs": [
    {
     "data": {
      "text/plain": [
       "<matplotlib.legend.Legend at 0x210ae7a6e50>"
      ]
     },
     "execution_count": 8,
     "metadata": {},
     "output_type": "execute_result"
    },
    {
     "data": {
      "image/png": "[encoded data removed]",
      "text/plain": [
       "<Figure size 432x288 with 1 Axes>"
      ]
     },
     "metadata": {
      "needs_background": "light"
     },
     "output_type": "display_data"
    }
   ],
   "source": [
    "pos =  (df['true_class']==1)\n",
    "neg =  (df['true_class']==0)\n",
    "# fig, axes = plt.subplots(nrows=1, ncols=1, figsize=(7, 3))\n",
    "plt.hist(df.loc[neg,'score'], bins=50, alpha=0.5, label='neg', color='magenta')\n",
    "plt.xlabel('score')\n",
    "plt.ylabel('frequency')\n",
    "plt.hist(df.loc[pos,'score'], bins=50, alpha=0.5, label='pos', color='cyan');\n",
    "plt.legend(loc='upper right')"
   ]
  },
  {
   "cell_type": "code",
   "execution_count": 9,
   "metadata": {},
   "outputs": [],
   "source": [
    "from sklearn.metrics import confusion_matrix\n",
    "def eval(true_class, score, threshold):\n",
    "    pred_class = (score >=threshold)\n",
    "    conf = confusion_matrix(true_class, pred_class)\n",
    "    tn, fp, fn, tp = conf.ravel()\n",
    "    print(conf)\n",
    "    return\n",
    "    "
   ]
  },
  {
   "cell_type": "code",
   "execution_count": 10,
   "metadata": {},
   "outputs": [],
   "source": [
    "#tn, fp, fn, tp = confusion_matrix(df['true_class'], df['pred_class']).ravel()\n",
    "#(tn, fp, fn, tp)"
   ]
  },
  {
   "cell_type": "code",
   "execution_count": 11,
   "metadata": {},
   "outputs": [
    {
     "name": "stdout",
     "output_type": "stream",
     "text": [
      "[[8522    9]\n",
      " [1326  143]]\n"
     ]
    }
   ],
   "source": [
    "eval(df['true_class'],df['score'],0.9)"
   ]
  },
  {
   "cell_type": "code",
   "execution_count": 12,
   "metadata": {},
   "outputs": [],
   "source": [
    "# Aufgaben:\n",
    "# Wie würden Sie die Schwelle legen\n",
    "# 1. wenn jeder false positive 1 und jeder false negative 2 Einheiten kostet?\n",
    "# 2. "
   ]
  },
  {
   "cell_type": "code",
   "execution_count": null,
   "metadata": {},
   "outputs": [],
   "source": []
  },
  {
   "cell_type": "code",
   "execution_count": 13,
   "metadata": {},
   "outputs": [
    {
     "data": {
      "text/html": [
       "<div>\n",
       "<style scoped>\n",
       "    .dataframe tbody tr th:only-of-type {\n",
       "        vertical-align: middle;\n",
       "    }\n",
       "\n",
       "    .dataframe tbody tr th {\n",
       "        vertical-align: top;\n",
       "    }\n",
       "\n",
       "    .dataframe thead th {\n",
       "        text-align: right;\n",
       "    }\n",
       "</style>\n",
       "<table border=\"1\" class=\"dataframe\">\n",
       "  <thead>\n",
       "    <tr style=\"text-align: right;\">\n",
       "      <th></th>\n",
       "      <th>Unnamed: 0</th>\n",
       "      <th>score</th>\n",
       "      <th>true_class</th>\n",
       "    </tr>\n",
       "  </thead>\n",
       "  <tbody>\n",
       "    <tr>\n",
       "      <th>8361</th>\n",
       "      <td>8361</td>\n",
       "      <td>0.000012</td>\n",
       "      <td>0.0</td>\n",
       "    </tr>\n",
       "  </tbody>\n",
       "</table>\n",
       "</div>"
      ],
      "text/plain": [
       "      Unnamed: 0     score  true_class\n",
       "8361        8361  0.000012         0.0"
      ]
     },
     "execution_count": 13,
     "metadata": {},
     "output_type": "execute_result"
    }
   ],
   "source": [
    "df[8361:8362]"
   ]
  },
  {
   "cell_type": "code",
   "execution_count": 14,
   "metadata": {},
   "outputs": [],
   "source": [
    "def eval_acc(df, threshold):\n",
    "    pred_pos = (df['score']>=threshold)\n",
    "    pred_neg = (df['score']<threshold)\n",
    "    TP = sum(df.loc[pred_pos, 'true_class'])\n",
    "    FN = sum(df['true_class'])-TP\n",
    "    FP = sum(pred_pos)-TP\n",
    "    TN = sum(pred_neg)-FN\n",
    "    N = len(df.index)\n",
    "    acc=(TP+TN)/N\n",
    "    recall = TP/np.float64(TP+FN)\n",
    "    specifity = TN/np.float64(TN+FP)\n",
    "    precision = TP/np.float64(TP+FP)\n",
    "    f1 = (2*recall*precision)/(recall+precision)\n",
    "    cf = sum(pred_neg) # cumulative frequency of scores < threshold\n",
    "    return (acc,recall, specifity, precision, f1, cf)"
   ]
  },
  {
   "cell_type": "code",
   "execution_count": 15,
   "metadata": {},
   "outputs": [],
   "source": [
    "scores = pd.DataFrame(columns=['threshold','accuracy','recall','specifity', 'precision', 'f1','cumulative_freq'])\n",
    "for i in range(0,100):\n",
    "    threshold = i/100.0\n",
    "    res = (threshold,)+ eval_acc(df_u, threshold)\n",
    "    scores.loc[i,] = res\n",
    "        \n"
   ]
  },
  {
   "cell_type": "code",
   "execution_count": 16,
   "metadata": {},
   "outputs": [],
   "source": [
    "#plt.subplot(1, 2, 1)\n",
    "#m = 'precision'\n",
    "#plt.plot(scores['threshold'],scores[m])\n",
    "#plt.title(m)\n",
    "#plt.subplot(1, 2, 2)\n",
    "#m = 'recall'\n",
    "#plt.plot(scores['threshold'],scores[m])\n",
    "#plt.title(m)\n",
    "#scores.loc[scores['f1'].values.argmax(),'threshold']"
   ]
  },
  {
   "cell_type": "code",
   "execution_count": 17,
   "metadata": {},
   "outputs": [
    {
     "data": {
      "image/png": "[encoded data removed]",
      "text/plain": [
       "<Figure size 720x216 with 2 Axes>"
      ]
     },
     "metadata": {
      "needs_background": "light"
     },
     "output_type": "display_data"
    }
   ],
   "source": [
    "fig, axes = plt.subplots(nrows=1, ncols=2, figsize=(10, 3))\n",
    "m = 'precision'; axes[0].plot(scores['threshold'],scores[m])\n",
    "#plt.title(m)\n",
    "m = 'recall'; axes[0].plot(scores['threshold'],scores[m]); axes[0].set_title('precision (blue) / recall (orange)')\n",
    "m = 'accuracy'; axes[1].plot(scores['threshold'],scores[m])\n",
    "m = 'f1'; axes[1].plot(scores['threshold'],scores[m]); axes[1].set_title('accuracy (blue) / f1 (orange)')\n",
    "fig.tight_layout()"
   ]
  },
  {
   "cell_type": "code",
   "execution_count": null,
   "metadata": {},
   "outputs": [],
   "source": []
  },
  {
   "cell_type": "code",
   "execution_count": 18,
   "metadata": {},
   "outputs": [
    {
     "data": {
      "text/plain": [
       "0.15"
      ]
     },
     "execution_count": 18,
     "metadata": {},
     "output_type": "execute_result"
    }
   ],
   "source": [
    "scores.loc[scores['f1'].values.argmax(),'threshold']"
   ]
  },
  {
   "cell_type": "code",
   "execution_count": 19,
   "metadata": {},
   "outputs": [
    {
     "data": {
      "image/png": "[encoded data removed]",
      "text/plain": [
       "<Figure size 432x288 with 1 Axes>"
      ]
     },
     "metadata": {
      "needs_background": "light"
     },
     "output_type": "display_data"
    }
   ],
   "source": [
    "plt.hist(df['score'],30);"
   ]
  }
 ],
 "metadata": {
  "kernelspec": {
   "display_name": "Python 3",
   "language": "python",
   "name": "python3"
  },
  "language_info": {
   "codemirror_mode": {
    "name": "ipython",
    "version": 3
   },
   "file_extension": ".py",
   "mimetype": "text/x-python",
   "name": "python",
   "nbconvert_exporter": "python",
   "pygments_lexer": "ipython3",
   "version": "3.8.3"
  }
 },
 "nbformat": 4,
 "nbformat_minor": 4
}
