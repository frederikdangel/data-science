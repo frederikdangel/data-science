{
 "cells": [
  {
   "cell_type": "markdown",
   "metadata": {},
   "source": [
    "# Übung zum numerischen Lösen linearer Gleichungssysteme"
   ]
  },
  {
   "cell_type": "markdown",
   "metadata": {},
   "source": [
    "## Installation\n",
    "\n",
    "⚠️ Achtung: Läuft nur mit jupyter notebook (nicht jupyter lab) ⚠️\n",
    "\n",
    "Abhängigkeiten:\n",
    "\n",
    " - k3d:\n",
    "     1. ```conda install -c conda-forge trimesh```\n",
    "     2. ```conda install -c conda-forge k3d```\n",
    "     3. ```jupyter nbextension install --py --sys-prefix k3d```\n",
    "     4. ```jupyter nbextension enable --py --sys-prefix k3d```\n",
    "     5. jupyter notebook neu starten"
   ]
  },
  {
   "cell_type": "code",
   "execution_count": 1,
   "metadata": {},
   "outputs": [],
   "source": [
    "import numpy as np\n",
    "from xyz_loader import read_wavefront\n",
    "from __future__ import print_function\n",
    "from ipywidgets import interact, interactive, fixed, interact_manual, IntSlider\n",
    "import ipywidgets as widgets\n",
    "import k3d\n",
    "from scipy.spatial import KDTree\n",
    "import time \n",
    "import trimesh\n",
    "from tqdm import tqdm\n",
    "from scipy.linalg import cho_factor, cho_solve\n",
    "from matplotlib import pyplot as plt"
   ]
  },
  {
   "cell_type": "markdown",
   "metadata": {},
   "source": [
    "## Anwendung im Bereich Geometry Processing\n",
    "\n",
    "In dieser Übung soll ein 3D-Mesh \"so starr wie möglich\" deformiert werden. \n",
    "\n",
    "Ein trianguliertes Oberflächennetz (Mesh) kann durch eine Liste von $n$ Vertices $V = [[x_0.y_0.z_0],[x_1,y_1,z_1],\\cdots,[x_{n-1}.y_{n-1}.z_{n-1}]]$ und einer Liste von Dreiecken beschrieben werden. \n",
    "Die Dreiecksliste $F$ = [[0,2,3],[3,5,8],...] verbindet 3 Vertices aus V. \n",
    "Die Indizes referenzieren den jeweiligen Vertex aus $V$.\n",
    "    \n",
    "Gegeben ist dabei ein Mesh in einer Ausgangsform. \n",
    "Zusätzlich werden interaktiv die Randbedingungen der Optimierung angegegeben. \n",
    "Dies geschieht durch manuelle Mausklicks auf dem Mesh. \n",
    "Vertices, die sich nicht bewegen dürfen, werden der Reihe nach ausgewählt. \n",
    "Der zuletzt gewählt Vertex wird auf eine vorgegebene Stelle im Raum gesetzt. \n",
    "Alle anderen Vertices sollen nun so starr wie möglich verschoben werden.\n",
    "\n",
    "In dieser Aufgaben werden die folgenden Konzepte vertieft:\n",
    "* Einführung in Geometry Processing. Viele Kozepte aus der Vorlesung werden in diesem Forschungsfeld anschaulich angewandt. \n",
    "* Implementierung und Verständnis von Kostenfunktionen.\n",
    "* Aufstellen und Lösen linearer Gleichungssysteme.\n",
    "* Eigenwertzerlegung, Singulärwertzerlegung.\n",
    "    \n",
    "In dieser Übung wird das Paper https://igl.ethz.ch/projects/ARAP/arap_web.pdf implementiert. Keine Sorge, ein Großteil des Verfahren ist hier bereits implementiert, es werden nur einzelne Teilprobleme von Ihnen gelöst."
   ]
  },
  {
   "cell_type": "markdown",
   "metadata": {},
   "source": [
    "Im ersten Schritt wird ein Mesh aus der beiliegenden Datei cow.obj geladen:"
   ]
  },
  {
   "cell_type": "code",
   "execution_count": 2,
   "metadata": {},
   "outputs": [],
   "source": [
    "V,F = read_wavefront(\"cow.obj\")\n",
    "F[:] = F[:,[2,1,0]]\n",
    "V[:] = V[:,[2,1,0]]"
   ]
  },
  {
   "cell_type": "markdown",
   "metadata": {},
   "source": [
    "Ein zentraler Operator im Geometry Processing ist der Laplace-Beltrami Operator (LBO). Dieser kann mit einer Matrix $L$  mit $L \\in \\mathbb{R}^{n \\times n}$ ausgedrückt werden. Der LBO lässt sich aus den Vertices $V$ und Dreiecken $F$ ermitteln. Neben dem LBO liefert die unten implementierte Funktion eine Gewichtsmatrix $W \\in \\mathbb{R}^{n \\times n}$ zurück. Wir beschreiben einen Eintrag in der Matrix $W$ in Zeile $i$ und Spalte $j$ mit $w_{ij} \\in \\mathbb{R}$\n",
    "\n",
    "Die Vorzeichen der LBO-Formulierung unterscheiden sich in den beiden genannten Quellen. Der Parameter ```sign``` konvertiert den LBO bei \"-1\" in die Darstellung für das Paper. "
   ]
  },
  {
   "cell_type": "code",
   "execution_count": 3,
   "metadata": {},
   "outputs": [],
   "source": [
    "#verts und faces entsprechen V und F im Text.\n",
    "def lbo(verts,faces,sign):\n",
    "    L = np.zeros([verts.shape[0],verts.shape[0]])\n",
    "    W = np.zeros([verts.shape[0],verts.shape[0]])\n",
    "    for f in faces:\n",
    "        for i in range(3):\n",
    "            j = (i+1) % 3\n",
    "            p,q,o = f[i],f[j],f[(j+1) % 3]\n",
    "            u = verts[o] - verts[p]\n",
    "            v = verts[o] - verts[q]\n",
    "            alpha = np.arccos(np.abs(np.inner(u,v))/\n",
    "                (np.linalg.norm(u)*np.linalg.norm(v)))\n",
    "            cot = .5*np.cos(alpha)/np.sin(alpha)\n",
    "            W[p,q] -= cot\n",
    "            W[q,p] -= cot\n",
    "            L[p,p] -= cot\n",
    "            L[p,q] += cot\n",
    "            L[q,q] -= cot\n",
    "            L[q,p] += cot\n",
    "    return sign*L,sign*W"
   ]
  },
  {
   "cell_type": "markdown",
   "metadata": {},
   "source": [
    "# Die Kostenfunktion\n",
    "\n",
    "Bei einem gegebenen Mesh mit vertices $V$ und Dreiecken $F$ werden modifizierte Vertexpositionen $V' \\in \\mathbb{R}^{n \\times 3}$ gesucht. \n",
    "Einzelne Zeilen aus $V$ und $V'$ schreiben wir als $v_i,v'_i \\in \\mathbb{R}^3$, wobei $i$ die Zeilen indiziert.\n",
    "Dabei gibt der User einige Zeilen aus $V'$ fest vor (diese entsprechen den ausgewählten Punkten in der 3D Ansicht). \n",
    "Die Übrigen Zeilen werden durch Minimierung einer Kostenfuntion bestimmt.\n",
    "Neben den zu optimierenden Parametern $V'$ werden zusätzliche Parameter eingeführt.\n",
    "Für jeden Vertex wird eine Rotationsmatrix $R_i \\in \\mathbb{R}^{3 \\times 3}$ eingeführt, also insgesammt $n$ zusätzliche unbekannte Rotationsmatrizen.\n",
    "\n",
    "Bevor wir die zu minimierende Kostenfunktion definieren können, benötigen wir noch eine Definition der Nachbarschaft eines Vertex. \n",
    "Zwei Vertices sind Nachbarn, wenn sich im Mesh durch eine Kante verbunden sind. \n",
    "Wir notieren die Nachbarschaft des mit $i$ indizieren Vertex mit $\\mathcal{N}(i)$. \n",
    "Wenn die Vertices, die mit $i$ und $j$ indiziert sind Nachbarn sind, dann gilt $j \\in \\mathcal{N}(i)$ und $i \\in \\mathcal{N}(j)$, andernfalls gilt $j \\notin \\mathcal{N}(i)$ und $i \\notin \\mathcal{N}(j)$. \n",
    "Glücklicherwiese können Sie die Nachbarschaftsbeziehung aus der oben eingeführten Gewichtsmatrix $W$ ableiten.\n",
    "Es gilt $w_{ij} \\neq 0 \\iff j \\in \\mathcal{N}(i)$. \n",
    "\n",
    "Jetzt haben wir alle Komponenten, um die Kostenfunktion $E$ definieren zu können mit\n",
    "\n",
    "\\begin{equation}\n",
    "E(V',R_1,R_2,\\cdots,R_n) = \\sum_{i=1}^N  \\sum_{j \\in \\mathcal{N}(i)} w_{ij} ||v'_i-v'_j - R_i(v_i-v_j)||_2^2 \\tag{1}\n",
    "\\end{equation}"
   ]
  },
  {
   "cell_type": "markdown",
   "metadata": {},
   "source": [
    "## Aufgabe 1\n",
    "\n",
    "Implementieren Sie die Kostenfunktion (1). \n",
    "\n",
    "```W``` is die Gewichtematrix, $R=[R_1,R_2,\\cdots,R_n]$ ist eine Liste von Rotationsmatrizen, ```verts``` entspricht $V$ und ```vertsP``` entspricht $V'$. \n",
    "\n",
    "Können Sie die Kostenfunktion in eigenen Worten beschreiben?"
   ]
  },
  {
   "cell_type": "code",
   "execution_count": 4,
   "metadata": {},
   "outputs": [],
   "source": [
    "def E(W,R,verts,vertsP):\n",
    "    error = 0\n",
    "    for i in range(verts.shape[0]):\n",
    "        nonzeros = np.where(W[i,:])[0]\n",
    "        for j in nonzeros:\n",
    "            dev = vertsP[i]- vertsP[j] - R[i].dot(verts[i]-verts[j])\n",
    "            error += W[i,j] * np.inner(dev,dev)\n",
    "    return error"
   ]
  },
  {
   "cell_type": "markdown",
   "metadata": {},
   "source": [
    "## Aufgabe 2\n",
    "\n",
    "In diesem Abschnitt lernen wir den LBO besser kennen. Zerlegen Sie den LBO in Eigenwerte ```Le``` und Eigenvektoren ```Lv```. Sortieren Sie die Eigenvektoren aufsteigend entsprechend der Eigenwerte. (Tipp: Hier können Funktionen aus dem ```linalg```-Modul von Numpy hilfreich sein.)\n",
    "\n",
    "Was können Sie über die Definitheit und die Symmetrieeigenschaften des LBOs aussagen?"
   ]
  },
  {
   "cell_type": "code",
   "execution_count": 5,
   "metadata": {},
   "outputs": [
    {
     "name": "stdout",
     "output_type": "stream",
     "text": [
      "[-4.36910017e-15  2.51607186e-03  9.50359568e-03 ...  1.68289878e+01\n",
      "  1.80694918e+01  1.80698632e+01]\n"
     ]
    }
   ],
   "source": [
    "?np.linalg.eig\n",
    "L,_ = lbo(V,F,-1)\n",
    "Le, Lv = np.linalg.eig(L)\n",
    "idx = Le.argsort()\n",
    "Le = Le[idx]\n",
    "Lv = Lv[:,idx]\n",
    "print(Le)"
   ]
  },
  {
   "cell_type": "markdown",
   "metadata": {},
   "source": [
    "## Aufgabe 3\n",
    "\n",
    "Weisen Sie k3meshspec.attribute unterschiedliche Eigenvektoren mit Hilfe des Sliders zu. \n",
    "\n",
    "Was fällt Ihnen auf? Sie können den Slider auch mit den Pfeiltasten steuern."
   ]
  },
  {
   "cell_type": "code",
   "execution_count": 6,
   "metadata": {},
   "outputs": [
    {
     "name": "stderr",
     "output_type": "stream",
     "text": [
      "/home/samuel/anaconda3/lib/python3.8/site-packages/traittypes/traittypes.py:97: UserWarning: Given trait value dtype \"float64\" does not match required type \"float32\". A coerced copy has been created.\n",
      "  warnings.warn(\n",
      "/home/samuel/anaconda3/lib/python3.8/site-packages/traittypes/traittypes.py:97: UserWarning: Given trait value dtype \"int64\" does not match required type \"uint32\". A coerced copy has been created.\n",
      "  warnings.warn(\n"
     ]
    },
    {
     "data": {
      "application/vnd.jupyter.widget-view+json": {
       "model_id": "4b85535d54784d1b88fed55c58b337b8",
       "version_major": 2,
       "version_minor": 0
      },
      "text/plain": [
       "Output()"
      ]
     },
     "metadata": {},
     "output_type": "display_data"
    }
   ],
   "source": [
    "C = .5*np.ones(V.shape[0],dtype=np.float32)\n",
    "k3meshplotspec_eigenvectors = k3d.plot()\n",
    "k3meshspec_eigenvectors = k3d.mesh(V,F,attribute=C,color_map=k3d.basic_color_maps.Jet, color_range=[0.0, 1.0])\n",
    "k3meshplotspec_eigenvectors += k3meshspec_eigenvectors\n",
    "k3meshplotspec_eigenvectors.display()"
   ]
  },
  {
   "cell_type": "code",
   "execution_count": 7,
   "metadata": {},
   "outputs": [
    {
     "data": {
      "application/vnd.jupyter.widget-view+json": {
       "model_id": "6d265c9401fb4048a248468138d25f74",
       "version_major": 2,
       "version_minor": 0
      },
      "text/plain": [
       "interactive(children=(IntSlider(value=50, description='x', max=2929), Output()), _dom_classes=('widget-interac…"
      ]
     },
     "metadata": {},
     "output_type": "display_data"
    }
   ],
   "source": [
    "def eigenvector_callback(x):\n",
    "    vis = Lv[:,x].copy()  \n",
    "    vis = (vis-vis.mean()) / (2*vis.std()) + .5\n",
    "    k3meshspec_eigenvectors.attribute = vis.astype(np.float32)\n",
    "interact(eigenvector_callback, x=widgets.IntSlider(min=0, max=V.shape[0]-1, step=1, value=50));\n"
   ]
  },
  {
   "cell_type": "markdown",
   "metadata": {},
   "source": [
    "## Aufgabe 4\n",
    "Fassen Sie den LBO als Kovarianzmatrix auf und \"komprimieren\" Sie die 3D-Form durch Dimensionsreduktion der Vertexpositionen (PCA ohne Zentrierung). \n",
    "\n",
    "Nutzen Sie den Slider, um die Anzahl der Hauptkomponenten zu regeln. Wie wirkt sich die Stellung des Sliders auf die Kompression des Meshes aus?"
   ]
  },
  {
   "cell_type": "code",
   "execution_count": 8,
   "metadata": {},
   "outputs": [
    {
     "data": {
      "application/vnd.jupyter.widget-view+json": {
       "model_id": "796296f0fab6465ab233fb79d2d48b64",
       "version_major": 2,
       "version_minor": 0
      },
      "text/plain": [
       "Output()"
      ]
     },
     "metadata": {},
     "output_type": "display_data"
    }
   ],
   "source": [
    "k3meshplotspec_pca = k3d.plot()\n",
    "k3meshspec_pca = k3d.mesh(V,F,attribute=C,color_map=k3d.basic_color_maps.Jet, color_range=[0.0, 1.0])\n",
    "k3meshplotspec_pca += k3meshspec_pca\n",
    "k3meshplotspec_pca.display()"
   ]
  },
  {
   "cell_type": "code",
   "execution_count": 9,
   "metadata": {},
   "outputs": [
    {
     "data": {
      "application/vnd.jupyter.widget-view+json": {
       "model_id": "0decd58906c641b1b33273a64b9679fc",
       "version_major": 2,
       "version_minor": 0
      },
      "text/plain": [
       "interactive(children=(IntSlider(value=30, description='x', max=2929), Output()), _dom_classes=('widget-interac…"
      ]
     },
     "metadata": {},
     "output_type": "display_data"
    }
   ],
   "source": [
    "def eigenvector_callback(x):\n",
    "    V3 = []\n",
    "    neigs = x #Modfifizieren\n",
    "    for i in range(3):\n",
    "        C1 = Lv.T.dot(V[:,i])[:neigs]\n",
    "        V1 = Lv[:,:neigs].dot(C1).reshape(-1,1)\n",
    "        V3.append(V1)\n",
    "    V3 = np.hstack(V3).astype(np.float32)\n",
    "    k3meshspec_pca.vertices = V3\n",
    "interact(eigenvector_callback, x=widgets.IntSlider(min=0, max=V.shape[0]-1, step=1, value=30));"
   ]
  },
  {
   "cell_type": "markdown",
   "metadata": {},
   "source": [
    "# Minimierung der Kostenfunktion\n",
    "\n",
    "Wie Sie vielleicht schon erkannt haben, handelt es sich bei der Minimierung von (1) um ein nichtlineares least-sqaures Problem. Dies könnten Sie mit Hilfe von Gauss-Newton oder Levenberg-Marquardt lösen:\n",
    "\n",
    "\\begin{equation}\n",
    "\\hat{V}',\\hat{R}_1,\\hat{R}_2,\\cdots,\\hat{R}_n = \\underset{V',R_1,R_2,\\cdots,R_n}{\\operatorname{argmin}} E(V',R_1,R_2,\\cdots,R_n) \\tag{2}\n",
    "\\end{equation}\n",
    "\n",
    "Stattdessen minimieren wir hier die Kostenfunktion mit Hilfe eines alternierenden Optimierungsverfahrens. Ausgehend von einer initialen Schätzung der Parameter $V'^{(0)} = V$ suchen wir iterativ besser geeignete Parameter. Dabei minimieren wir abwechselnd\n",
    "\n",
    "\\begin{equation}\n",
    "R_1^{(k+1)},R_2^{(k+1)},\\cdots,R_n^{(k+1)} = \\underset{R_1,R_2,\\cdots,R_n}{\\operatorname{argmin}} E(V'^{(k)},R_1,R_2,\\cdots,R_n) \\tag{3}\n",
    "\\end{equation}\n",
    "\n",
    "und\n",
    "\n",
    "\\begin{equation}\n",
    "V'^{(k+1)} = \\underset{V'}{\\operatorname{argmin}} E(V',R_1^{(k+1)},R_2^{(k+1)},\\cdots,R_n^{(k+1)}) \\tag{4}\n",
    "\\end{equation}\n",
    "\n",
    "Im Gegensatz zu (2) lassen sich (3) und (4) in einer geschlossenen Form lösen. Der Optimierungsschritt (3) ist bereits implementiert, lediglich (4) ist noch zu programmieren. Partielles Ableiten nach allen Einträgen aus $V'$ und anschließendes Nullsetzen liefert die drei separierbaren linearen Gleichungssysteme\n",
    "\n",
    "\\begin{align}\n",
    "L v_x^{'(k)} &= b_x^{(k)} \\\\\n",
    "L v_y^{'(k)} &= b_y^{(k)} \\tag{5} \\\\\n",
    "L v_z^{'(k)} &= b_z^{(k)}, \\\\\n",
    "\\end{align}\n",
    "\n",
    "wobei $L$ der LBO ist, $[v_x^{'(k)}, v_y^{'(k)}, v_z^{'(k)}]=V^{'(k)}$ die drei Spalten von $V'^{(k)}$ indiziert, $[ b_x^{(k)}, b_y^{(k)}, b_z^{(k)}] = B^{(k)}$ mit $B^{(k)} \\in \\mathbb{R}^{n \\times 3}$ und die $i$-te Zeile von $B^{(k)}$ definiert ist mit\n",
    "\n",
    "\\begin{equation}\n",
    "b_i^{(k)} = \\sum_{j \\in \\mathcal{N}(I)} \\frac{w_{ij}}{2} (R_i^{(k)}+R_j^{(k)})(v_i-v_j). \\tag{5}\n",
    "\\end{equation}"
   ]
  },
  {
   "cell_type": "markdown",
   "metadata": {},
   "source": [
    "## Aufgabe 5\n",
    "\n",
    "Implementieren Sie die rechte Seite von (5). \n",
    "\n",
    "Vervollständigen Sie die Funktion ```rhs``` mit den Gewichten $W$, der Liste an Rotationsmatrizen  $R=[R_1,R_2,\\cdots,R_n]$ und den initialen Vertexpositionen $V$ (```verts```)."
   ]
  },
  {
   "cell_type": "code",
   "execution_count": 10,
   "metadata": {},
   "outputs": [],
   "source": [
    "def rhs(W,Rs,verts):\n",
    "    B_all = []\n",
    "    for i in range(verts.shape[0]):\n",
    "        Ri = Rs[i]\n",
    "        nonzeros = np.where(W[i,:])[0]\n",
    "        Bj = np.zeros(3,dtype=np.float64)\n",
    "        for j in nonzeros:\n",
    "            Bj += .5*W[i,j]*(Ri+Rs[j]) @ (verts[i]-verts[j])\n",
    "        B_all.append(Bj)\n",
    "    return np.vstack(B_all)"
   ]
  },
  {
   "cell_type": "markdown",
   "metadata": {},
   "source": [
    "Die Routine zum Lösen von (3) wurde hier bereits implementiert und liefert die entsprechenden Rotationsmatrizen zurück:"
   ]
  },
  {
   "cell_type": "code",
   "execution_count": 11,
   "metadata": {},
   "outputs": [],
   "source": [
    "def solve_Rs(verts,vertsP,faces,W):\n",
    "    Rs = []\n",
    "    for i in range(verts.shape[0]):\n",
    "        nonzeros = np.where(W[i,:])[0]\n",
    "        D = np.diag(W[i,nonzeros])\n",
    "        E = verts[i] - verts[nonzeros]\n",
    "        EP = vertsP[i] - vertsP[nonzeros]\n",
    "        S = E.T.dot(D).dot(EP)\n",
    "        svd_u,svd_sig,svd_v = np.linalg.svd(S)\n",
    "        R = svd_v.T.dot(svd_u.T)\n",
    "        if np.linalg.det(R) < 0:\n",
    "            svd_u[:,2] *= -1\n",
    "            R = svd_v.T.dot(svd_u.T)\n",
    "        assert( np.linalg.det(R) > 0 )\n",
    "        Rs.append(R)\n",
    "    return Rs"
   ]
  },
  {
   "cell_type": "markdown",
   "metadata": {},
   "source": [
    "## Aufgabe 6\n",
    "\n",
    "Vervollständigen Sie die Implementierung des alternierenden Optimierungsverfahrens. \n",
    "\n",
    "Die Routine ```solve_arap``` bekommt als Parameter die Liste der Vertexindizes, welche auf feste Zielpositionen gesetzt werden. Dabei werden die spezifizierten Vertices auf ihre ursprüngliche Position gesetzt. Lediglich der letzte spezifizierte Vertex wird auf die Position ```target_point``` gesetzt.\n",
    "\n",
    "### Aufgabe 6a\n",
    "Modifizien sie den LBO $L$ und $B$, sodass das Gleichungssystem die vorgegebenen Constraints einhält.\n",
    "\n",
    "### Aufgabe 6b\n",
    "Das Gleichungssystem wird aktuell in jeder Iteration von Grund auf neu gelöst, obwohl die Systemmatrix $L$ konstant ist. Nutzen Sie eine passende Faktorisierungsmethode, um die Performance des Verfahrens zu verbessern. \n",
    "\n",
    "Hinweis: Der modifizierte LBO ist immer symmetrisch, positiv definit. \n",
    "Welche Faktorisierungmethode bietet sich daher an? Im Paket ```scipy.linalg``` finden Sie eine Sammlung an Matrixfaktorisierungsverfahren."
   ]
  },
  {
   "cell_type": "code",
   "execution_count": 12,
   "metadata": {},
   "outputs": [
    {
     "name": "stderr",
     "output_type": "stream",
     "text": [
      "100%|██████████| 50/50 [00:34<00:00,  1.43it/s]\n"
     ]
    },
    {
     "data": {
      "text/plain": [
       "[<matplotlib.lines.Line2D at 0x7f4aad1a9e50>]"
      ]
     },
     "execution_count": 12,
     "metadata": {},
     "output_type": "execute_result"
    },
    {
     "data": {
      "image/png": "[encoded data removed]",
      "text/plain": [
       "<Figure size 432x288 with 1 Axes>"
      ]
     },
     "metadata": {
      "needs_background": "light"
     },
     "output_type": "display_data"
    }
   ],
   "source": [
    "n_iterations = 50\n",
    "def solve_arap(fixed_vertex_indices=[289,577,2212, 284], target_point = np.array([1,-1.1,0])):\n",
    "    LInit,W = lbo(V,F,-1)\n",
    "    vnew = V[fixed_vertex_indices]\n",
    "    vnew[-1] = target_point\n",
    "    Rs = [np.eye(3) for i in range(V.shape[0])]\n",
    "    vertices_history = []\n",
    "    error_history = []\n",
    "    vertices_history.append(V)\n",
    "    \n",
    "    U = V.copy()\n",
    "    U[fixed_vertex_indices[-1]] = target_point\n",
    "    error_history.append(E(W,Rs,V,U))\n",
    "    L = LInit.copy()\n",
    "    \n",
    "    #### Lösung Aufgabe 6a\n",
    "    L[:,fixed_vertex_indices] = 0\n",
    "    L[fixed_vertex_indices,:] = 0\n",
    "    L[fixed_vertex_indices,fixed_vertex_indices] = 1\n",
    "    #### Lösung Aufgabe 6a\n",
    "    \n",
    "    factor = cho_factor(L) #Aufgabe 6b\n",
    "    \n",
    "    for i in tqdm(range(n_iterations)):\n",
    "        Rs = solve_Rs(V,U,F,W)\n",
    "        error_history.append(E(W,Rs,V,U))\n",
    "        B = rhs(W,Rs,V)\n",
    "        ### Lösung 6a\n",
    "        B -= LInit[:,fixed_vertex_indices].dot(vnew)\n",
    "        B[fixed_vertex_indices] = vnew      \n",
    "        ### Lösung 6a\n",
    "        #U = np.linalg.solve(L,B) #Aufgabe 6b\n",
    "        U = cho_solve(factor,B) #Aufgabe 6b  \n",
    "        error_history.append(E(W,Rs,V,U))\n",
    "        vertices_history.append(U)\n",
    "    return vertices_history,error_history\n",
    "history,errors, = solve_arap()\n",
    "plt.plot(errors)"
   ]
  },
  {
   "cell_type": "markdown",
   "metadata": {},
   "source": [
    "## Aufgabe 7\n",
    "\n",
    "Visualisieren Sie den Fortschritt Ihres Verfahren mit Hilfe des Sliders:"
   ]
  },
  {
   "cell_type": "code",
   "execution_count": 13,
   "metadata": {},
   "outputs": [
    {
     "data": {
      "application/vnd.jupyter.widget-view+json": {
       "model_id": "5921e35425eb42b48725d4b5a976d27f",
       "version_major": 2,
       "version_minor": 0
      },
      "text/plain": [
       "Output()"
      ]
     },
     "metadata": {},
     "output_type": "display_data"
    }
   ],
   "source": [
    "k3meshplotspec_arap = k3d.plot()\n",
    "k3meshspec_arap = k3d.mesh(V,F,attribute=C,color_map=k3d.basic_color_maps.Jet, color_range=[0.0, 1.0])\n",
    "k3meshplotspec_arap += k3meshspec_arap\n",
    "k3meshplotspec_arap.display()"
   ]
  },
  {
   "cell_type": "code",
   "execution_count": 14,
   "metadata": {},
   "outputs": [
    {
     "data": {
      "application/vnd.jupyter.widget-view+json": {
       "model_id": "85fd9e9f75ba4e64b6af9ba1ab157761",
       "version_major": 2,
       "version_minor": 0
      },
      "text/plain": [
       "interactive(children=(IntSlider(value=0, description='i', max=50), Output()), _dom_classes=('widget-interact',…"
      ]
     },
     "metadata": {},
     "output_type": "display_data"
    }
   ],
   "source": [
    "def history_callback(i):    \n",
    "    k3meshspec_arap.vertices = history[i] \n",
    "interact(history_callback, i=widgets.IntSlider(min=0, max=n_iterations, step=1, value=0));"
   ]
  },
  {
   "cell_type": "markdown",
   "metadata": {},
   "source": [
    "# Interaktive Segmentierung\n",
    "\n",
    "Die nächste Zelle implementiert die interaktive Segmentierung des 3D-Modells. Die Anleitung zur Segmentierung finden Sie weiter unten."
   ]
  },
  {
   "cell_type": "code",
   "execution_count": 15,
   "metadata": {
    "scrolled": true
   },
   "outputs": [
    {
     "name": "stderr",
     "output_type": "stream",
     "text": [
      "/home/samuel/anaconda3/lib/python3.8/site-packages/traittypes/traittypes.py:97: UserWarning: Given trait value dtype \"float64\" does not match required type \"float32\". A coerced copy has been created.\n",
      "  warnings.warn(\n",
      "/home/samuel/anaconda3/lib/python3.8/site-packages/traittypes/traittypes.py:97: UserWarning: Given trait value dtype \"int64\" does not match required type \"uint32\". A coerced copy has been created.\n",
      "  warnings.warn(\n"
     ]
    },
    {
     "data": {
      "application/vnd.jupyter.widget-view+json": {
       "model_id": "c5aecc4192cc4445bcc928eb2ff29619",
       "version_major": 2,
       "version_minor": 0
      },
      "text/plain": [
       "Output()"
      ]
     },
     "metadata": {},
     "output_type": "display_data"
    }
   ],
   "source": [
    "meshSpans = V.max(axis=0) - V.min(axis=0)\n",
    "C = .5*np.ones(V.shape[0],dtype=np.float32)\n",
    "\n",
    "mesh = trimesh.Trimesh(vertices=V,\n",
    "                       faces=F)\n",
    "pitch = 0.02\n",
    "voxels = mesh.voxelized(pitch=pitch).matrix\n",
    "\n",
    "origin = V.min(axis=0)\n",
    "origin[2] = V[:,2].max()\n",
    "meshSpanY = V[:,1].max() - V[:,1].min()\n",
    "voxelSpanY = voxels.shape[1]\n",
    "\n",
    "tree = KDTree(V)\n",
    "\n",
    "k3mesh = k3d.mesh(V,F,attribute=C,color_map=k3d.basic_color_maps.Jet, color_range=[0.0, 1.0])\n",
    "\n",
    "clicks = []\n",
    "\n",
    "def on_click(x, y, z):\n",
    "    query_pt = np.array([[z,y,-x]])\n",
    "    query_pt = query_pt* (meshSpanY/ voxelSpanY) + origin\n",
    "    \n",
    "    vidx = tree.query(query_pt)[1][0]\n",
    "    cpy = k3mesh.attribute.copy()\n",
    "    cpy[clicks] = 0.0\n",
    "    cpy[vidx] = 1.0\n",
    "    k3mesh.attribute = cpy\n",
    "    time.sleep(0.05)\n",
    "    clicks.append(vidx)\n",
    "\n",
    "color_map = (0x00ff00, 0xff0000, 0x00ff00)\n",
    "obj = k3d.voxels(voxels.astype(np.uint8), color_map)\n",
    "plot = k3d.plot()\n",
    "plot += obj\n",
    "\n",
    "obj.click_callback = on_click\n",
    "plot.voxel_paint_color = 0\n",
    "plot.mode = 'callback'\n",
    "plot.display()"
   ]
  },
  {
   "cell_type": "markdown",
   "metadata": {},
   "source": [
    "# 3D Viewer\n",
    "## Aufgabe 7\n",
    "\n",
    "Wählen Sie im 3D-View oben Control->Mode-Callbacks und klicken Sie auf das Mesh um Nebenbedigungen zu setzen. Das Resultat ist in der View unten zu sehen. Grün = \"freie Vertices\", blau = \"feste Vertices\" und rot = \"fester, im Code gesetzter Vertex\"."
   ]
  },
  {
   "cell_type": "code",
   "execution_count": 16,
   "metadata": {
    "scrolled": false
   },
   "outputs": [
    {
     "data": {
      "application/vnd.jupyter.widget-view+json": {
       "model_id": "5082af4acf3741b5ae2731f7c88a7a2b",
       "version_major": 2,
       "version_minor": 0
      },
      "text/plain": [
       "Output()"
      ]
     },
     "metadata": {},
     "output_type": "display_data"
    }
   ],
   "source": [
    "k3meshplot = k3d.plot()\n",
    "k3meshplot += k3mesh\n",
    "k3meshplot.display()\n",
    "k3meshplot.camera_auto_fit = False"
   ]
  },
  {
   "cell_type": "code",
   "execution_count": 17,
   "metadata": {},
   "outputs": [
    {
     "ename": "IndexError",
     "evalue": "index -1 is out of bounds for axis 0 with size 0",
     "output_type": "error",
     "traceback": [
      "\u001b[0;31m---------------------------------------------------------------------------\u001b[0m",
      "\u001b[0;31mIndexError\u001b[0m                                Traceback (most recent call last)",
      "\u001b[0;32m<ipython-input-17-9d510ae7ba5d>\u001b[0m in \u001b[0;36m<module>\u001b[0;34m\u001b[0m\n\u001b[1;32m      2\u001b[0m \u001b[0mfix\u001b[0m \u001b[0;34m=\u001b[0m \u001b[0mnp\u001b[0m\u001b[0;34m.\u001b[0m\u001b[0mwhere\u001b[0m\u001b[0;34m(\u001b[0m\u001b[0mattr\u001b[0m \u001b[0;34m<\u001b[0m \u001b[0;36m0.001\u001b[0m\u001b[0;34m)\u001b[0m\u001b[0;34m[\u001b[0m\u001b[0;36m0\u001b[0m\u001b[0;34m]\u001b[0m\u001b[0;34m\u001b[0m\u001b[0;34m\u001b[0m\u001b[0m\n\u001b[1;32m      3\u001b[0m \u001b[0mfix\u001b[0m \u001b[0;34m=\u001b[0m \u001b[0mnp\u001b[0m\u001b[0;34m.\u001b[0m\u001b[0mconcatenate\u001b[0m\u001b[0;34m(\u001b[0m\u001b[0;34m[\u001b[0m\u001b[0mfix\u001b[0m\u001b[0;34m,\u001b[0m\u001b[0mnp\u001b[0m\u001b[0;34m.\u001b[0m\u001b[0mwhere\u001b[0m\u001b[0;34m(\u001b[0m\u001b[0mattr\u001b[0m \u001b[0;34m>\u001b[0m \u001b[0;36m0.99\u001b[0m\u001b[0;34m)\u001b[0m\u001b[0;34m[\u001b[0m\u001b[0;36m0\u001b[0m\u001b[0;34m]\u001b[0m\u001b[0;34m]\u001b[0m\u001b[0;34m)\u001b[0m\u001b[0;34m\u001b[0m\u001b[0;34m\u001b[0m\u001b[0m\n\u001b[0;32m----> 4\u001b[0;31m \u001b[0mhistory_interactive\u001b[0m\u001b[0;34m,\u001b[0m\u001b[0merrors_interactive\u001b[0m\u001b[0;34m,\u001b[0m \u001b[0;34m=\u001b[0m \u001b[0msolve_arap\u001b[0m\u001b[0;34m(\u001b[0m\u001b[0mfix\u001b[0m\u001b[0;34m,\u001b[0m\u001b[0mnp\u001b[0m\u001b[0;34m.\u001b[0m\u001b[0marray\u001b[0m\u001b[0;34m(\u001b[0m\u001b[0;34m[\u001b[0m\u001b[0;36m1\u001b[0m\u001b[0;34m,\u001b[0m\u001b[0;34m-\u001b[0m\u001b[0;36m1.1\u001b[0m\u001b[0;34m,\u001b[0m\u001b[0;36m0\u001b[0m\u001b[0;34m]\u001b[0m\u001b[0;34m)\u001b[0m\u001b[0;34m)\u001b[0m\u001b[0;34m\u001b[0m\u001b[0;34m\u001b[0m\u001b[0m\n\u001b[0m\u001b[1;32m      5\u001b[0m \u001b[0mplt\u001b[0m\u001b[0;34m.\u001b[0m\u001b[0mplot\u001b[0m\u001b[0;34m(\u001b[0m\u001b[0merrors_interactive\u001b[0m\u001b[0;34m)\u001b[0m\u001b[0;34m\u001b[0m\u001b[0;34m\u001b[0m\u001b[0m\n\u001b[1;32m      6\u001b[0m \u001b[0;32mdef\u001b[0m \u001b[0mhistory_interactive_callback\u001b[0m\u001b[0;34m(\u001b[0m\u001b[0mi\u001b[0m\u001b[0;34m)\u001b[0m\u001b[0;34m:\u001b[0m\u001b[0;34m\u001b[0m\u001b[0;34m\u001b[0m\u001b[0m\n",
      "\u001b[0;32m<ipython-input-12-d5328ee576bb>\u001b[0m in \u001b[0;36msolve_arap\u001b[0;34m(fixed_vertex_indices, target_point)\u001b[0m\n\u001b[1;32m      3\u001b[0m     \u001b[0mLInit\u001b[0m\u001b[0;34m,\u001b[0m\u001b[0mW\u001b[0m \u001b[0;34m=\u001b[0m \u001b[0mlbo\u001b[0m\u001b[0;34m(\u001b[0m\u001b[0mV\u001b[0m\u001b[0;34m,\u001b[0m\u001b[0mF\u001b[0m\u001b[0;34m,\u001b[0m\u001b[0;34m-\u001b[0m\u001b[0;36m1\u001b[0m\u001b[0;34m)\u001b[0m\u001b[0;34m\u001b[0m\u001b[0;34m\u001b[0m\u001b[0m\n\u001b[1;32m      4\u001b[0m     \u001b[0mvnew\u001b[0m \u001b[0;34m=\u001b[0m \u001b[0mV\u001b[0m\u001b[0;34m[\u001b[0m\u001b[0mfixed_vertex_indices\u001b[0m\u001b[0;34m]\u001b[0m\u001b[0;34m\u001b[0m\u001b[0;34m\u001b[0m\u001b[0m\n\u001b[0;32m----> 5\u001b[0;31m     \u001b[0mvnew\u001b[0m\u001b[0;34m[\u001b[0m\u001b[0;34m-\u001b[0m\u001b[0;36m1\u001b[0m\u001b[0;34m]\u001b[0m \u001b[0;34m=\u001b[0m \u001b[0mtarget_point\u001b[0m\u001b[0;34m\u001b[0m\u001b[0;34m\u001b[0m\u001b[0m\n\u001b[0m\u001b[1;32m      6\u001b[0m     \u001b[0mRs\u001b[0m \u001b[0;34m=\u001b[0m \u001b[0;34m[\u001b[0m\u001b[0mnp\u001b[0m\u001b[0;34m.\u001b[0m\u001b[0meye\u001b[0m\u001b[0;34m(\u001b[0m\u001b[0;36m3\u001b[0m\u001b[0;34m)\u001b[0m \u001b[0;32mfor\u001b[0m \u001b[0mi\u001b[0m \u001b[0;32min\u001b[0m \u001b[0mrange\u001b[0m\u001b[0;34m(\u001b[0m\u001b[0mV\u001b[0m\u001b[0;34m.\u001b[0m\u001b[0mshape\u001b[0m\u001b[0;34m[\u001b[0m\u001b[0;36m0\u001b[0m\u001b[0;34m]\u001b[0m\u001b[0;34m)\u001b[0m\u001b[0;34m]\u001b[0m\u001b[0;34m\u001b[0m\u001b[0;34m\u001b[0m\u001b[0m\n\u001b[1;32m      7\u001b[0m     \u001b[0mvertices_history\u001b[0m \u001b[0;34m=\u001b[0m \u001b[0;34m[\u001b[0m\u001b[0;34m]\u001b[0m\u001b[0;34m\u001b[0m\u001b[0;34m\u001b[0m\u001b[0m\n",
      "\u001b[0;31mIndexError\u001b[0m: index -1 is out of bounds for axis 0 with size 0"
     ]
    }
   ],
   "source": [
    "attr = k3mesh.attribute.copy()\n",
    "fix = np.where(attr < 0.001)[0]\n",
    "fix = np.concatenate([fix,np.where(attr > 0.99)[0]])\n",
    "history_interactive,errors_interactive, = solve_arap(fix,np.array([1,-1.1,0]))\n",
    "plt.plot(errors_interactive)\n",
    "def history_interactive_callback(i):    \n",
    "    k3mesh.vertices = history_interactive[i] \n",
    "interact(history_interactive_callback, i=widgets.IntSlider(min=0, max=n_iterations, step=1, value=0));"
   ]
  },
  {
   "cell_type": "code",
   "execution_count": null,
   "metadata": {},
   "outputs": [],
   "source": []
  }
 ],
 "metadata": {
  "kernelspec": {
   "display_name": "Python 3",
   "language": "python",
   "name": "python3"
  },
  "language_info": {
   "codemirror_mode": {
    "name": "ipython",
    "version": 3
   },
   "file_extension": ".py",
   "mimetype": "text/x-python",
   "name": "python",
   "nbconvert_exporter": "python",
   "pygments_lexer": "ipython3",
   "version": "3.8.3"
  }
 },
 "nbformat": 4,
 "nbformat_minor": 2
}
