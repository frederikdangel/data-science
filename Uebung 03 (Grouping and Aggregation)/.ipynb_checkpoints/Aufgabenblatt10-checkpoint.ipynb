{
 "cells": [
  {
   "cell_type": "code",
   "execution_count": 1,
   "metadata": {},
   "outputs": [],
   "source": [
    "import numpy as np\n",
    "import matplotlib.pyplot as plt\n",
    "import pandas as pd\n",
    "import os"
   ]
  },
  {
   "cell_type": "code",
   "execution_count": 2,
   "metadata": {},
   "outputs": [],
   "source": [
    "#op = pd.read_csv('order_products__train.csv')\n",
    "#opp = pd.read_csv('order_products__prior.csv')\n",
    "aisles = pd.read_csv('aisles.csv')\n",
    "departments = pd.read_csv('departments.csv')\n",
    "orders = pd.read_csv('orders.csv')\n",
    "products = pd.read_csv('products.csv')"
   ]
  },
  {
   "cell_type": "code",
   "execution_count": 3,
   "metadata": {},
   "outputs": [
    {
     "data": {
      "text/html": [
       "<div>\n",
       "<style scoped>\n",
       "    .dataframe tbody tr th:only-of-type {\n",
       "        vertical-align: middle;\n",
       "    }\n",
       "\n",
       "    .dataframe tbody tr th {\n",
       "        vertical-align: top;\n",
       "    }\n",
       "\n",
       "    .dataframe thead th {\n",
       "        text-align: right;\n",
       "    }\n",
       "</style>\n",
       "<table border=\"1\" class=\"dataframe\">\n",
       "  <thead>\n",
       "    <tr style=\"text-align: right;\">\n",
       "      <th></th>\n",
       "      <th>order_id</th>\n",
       "      <th>user_id</th>\n",
       "      <th>eval_set</th>\n",
       "      <th>order_number</th>\n",
       "      <th>order_dow</th>\n",
       "      <th>order_hour_of_day</th>\n",
       "      <th>days_since_prior_order</th>\n",
       "    </tr>\n",
       "  </thead>\n",
       "  <tbody>\n",
       "    <tr>\n",
       "      <th>0</th>\n",
       "      <td>2539329</td>\n",
       "      <td>1</td>\n",
       "      <td>prior</td>\n",
       "      <td>1</td>\n",
       "      <td>2</td>\n",
       "      <td>8</td>\n",
       "      <td>NaN</td>\n",
       "    </tr>\n",
       "    <tr>\n",
       "      <th>1</th>\n",
       "      <td>2398795</td>\n",
       "      <td>1</td>\n",
       "      <td>prior</td>\n",
       "      <td>2</td>\n",
       "      <td>3</td>\n",
       "      <td>7</td>\n",
       "      <td>15.0</td>\n",
       "    </tr>\n",
       "    <tr>\n",
       "      <th>2</th>\n",
       "      <td>473747</td>\n",
       "      <td>1</td>\n",
       "      <td>prior</td>\n",
       "      <td>3</td>\n",
       "      <td>3</td>\n",
       "      <td>12</td>\n",
       "      <td>21.0</td>\n",
       "    </tr>\n",
       "    <tr>\n",
       "      <th>3</th>\n",
       "      <td>2254736</td>\n",
       "      <td>1</td>\n",
       "      <td>prior</td>\n",
       "      <td>4</td>\n",
       "      <td>4</td>\n",
       "      <td>7</td>\n",
       "      <td>29.0</td>\n",
       "    </tr>\n",
       "    <tr>\n",
       "      <th>4</th>\n",
       "      <td>431534</td>\n",
       "      <td>1</td>\n",
       "      <td>prior</td>\n",
       "      <td>5</td>\n",
       "      <td>4</td>\n",
       "      <td>15</td>\n",
       "      <td>28.0</td>\n",
       "    </tr>\n",
       "  </tbody>\n",
       "</table>\n",
       "</div>"
      ],
      "text/plain": [
       "   order_id  user_id eval_set  order_number  order_dow  order_hour_of_day  \\\n",
       "0   2539329        1    prior             1          2                  8   \n",
       "1   2398795        1    prior             2          3                  7   \n",
       "2    473747        1    prior             3          3                 12   \n",
       "3   2254736        1    prior             4          4                  7   \n",
       "4    431534        1    prior             5          4                 15   \n",
       "\n",
       "   days_since_prior_order  \n",
       "0                     NaN  \n",
       "1                    15.0  \n",
       "2                    21.0  \n",
       "3                    29.0  \n",
       "4                    28.0  "
      ]
     },
     "execution_count": 3,
     "metadata": {},
     "output_type": "execute_result"
    }
   ],
   "source": [
    "orders.head()"
   ]
  },
  {
   "cell_type": "code",
   "execution_count": 4,
   "metadata": {},
   "outputs": [
    {
     "data": {
      "text/html": [
       "<div>\n",
       "<style scoped>\n",
       "    .dataframe tbody tr th:only-of-type {\n",
       "        vertical-align: middle;\n",
       "    }\n",
       "\n",
       "    .dataframe tbody tr th {\n",
       "        vertical-align: top;\n",
       "    }\n",
       "\n",
       "    .dataframe thead th {\n",
       "        text-align: right;\n",
       "    }\n",
       "</style>\n",
       "<table border=\"1\" class=\"dataframe\">\n",
       "  <thead>\n",
       "    <tr style=\"text-align: right;\">\n",
       "      <th></th>\n",
       "      <th>order_id</th>\n",
       "      <th>product_id</th>\n",
       "      <th>reordered</th>\n",
       "    </tr>\n",
       "  </thead>\n",
       "  <tbody>\n",
       "    <tr>\n",
       "      <th>0</th>\n",
       "      <td>2</td>\n",
       "      <td>33120</td>\n",
       "      <td>1</td>\n",
       "    </tr>\n",
       "    <tr>\n",
       "      <th>1</th>\n",
       "      <td>2</td>\n",
       "      <td>28985</td>\n",
       "      <td>1</td>\n",
       "    </tr>\n",
       "    <tr>\n",
       "      <th>2</th>\n",
       "      <td>2</td>\n",
       "      <td>9327</td>\n",
       "      <td>0</td>\n",
       "    </tr>\n",
       "    <tr>\n",
       "      <th>3</th>\n",
       "      <td>2</td>\n",
       "      <td>45918</td>\n",
       "      <td>1</td>\n",
       "    </tr>\n",
       "    <tr>\n",
       "      <th>4</th>\n",
       "      <td>2</td>\n",
       "      <td>30035</td>\n",
       "      <td>0</td>\n",
       "    </tr>\n",
       "    <tr>\n",
       "      <th>...</th>\n",
       "      <td>...</td>\n",
       "      <td>...</td>\n",
       "      <td>...</td>\n",
       "    </tr>\n",
       "    <tr>\n",
       "      <th>1384612</th>\n",
       "      <td>3421063</td>\n",
       "      <td>14233</td>\n",
       "      <td>1</td>\n",
       "    </tr>\n",
       "    <tr>\n",
       "      <th>1384613</th>\n",
       "      <td>3421063</td>\n",
       "      <td>35548</td>\n",
       "      <td>1</td>\n",
       "    </tr>\n",
       "    <tr>\n",
       "      <th>1384614</th>\n",
       "      <td>3421070</td>\n",
       "      <td>35951</td>\n",
       "      <td>1</td>\n",
       "    </tr>\n",
       "    <tr>\n",
       "      <th>1384615</th>\n",
       "      <td>3421070</td>\n",
       "      <td>16953</td>\n",
       "      <td>1</td>\n",
       "    </tr>\n",
       "    <tr>\n",
       "      <th>1384616</th>\n",
       "      <td>3421070</td>\n",
       "      <td>4724</td>\n",
       "      <td>1</td>\n",
       "    </tr>\n",
       "  </tbody>\n",
       "</table>\n",
       "<p>33819106 rows × 3 columns</p>\n",
       "</div>"
      ],
      "text/plain": [
       "         order_id  product_id  reordered\n",
       "0               2       33120          1\n",
       "1               2       28985          1\n",
       "2               2        9327          0\n",
       "3               2       45918          1\n",
       "4               2       30035          0\n",
       "...           ...         ...        ...\n",
       "1384612   3421063       14233          1\n",
       "1384613   3421063       35548          1\n",
       "1384614   3421070       35951          1\n",
       "1384615   3421070       16953          1\n",
       "1384616   3421070        4724          1\n",
       "\n",
       "[33819106 rows x 3 columns]"
      ]
     },
     "execution_count": 4,
     "metadata": {},
     "output_type": "execute_result"
    }
   ],
   "source": [
    "# order_products Tabellen laden (die _prior und _train-Tabellen können für unsere Zwecke gemerged werden)\n",
    "order_products = pd.read_csv('order_products__prior.csv', usecols=['order_id', 'product_id', 'reordered'])\n",
    "order_products_train = pd.read_csv('order_products__train.csv', usecols=['order_id', 'product_id', 'reordered'])\n",
    "order_products.append(order_products_train)"
   ]
  },
  {
   "cell_type": "code",
   "execution_count": 5,
   "metadata": {},
   "outputs": [],
   "source": [
    "## Eine Spalte 'contains_bananas' zum 'orders'-DataFrame hinzufügen:"
   ]
  },
  {
   "cell_type": "code",
   "execution_count": 6,
   "metadata": {},
   "outputs": [],
   "source": [
    "products_filter = products[products['product_name'].isin([\"Bag of Organic Bananas\",\"Organic Banana\"])]\n",
    "products_filter = products_filter['product_id']\n",
    "order_products_with_bananas = order_products[order_products['product_id'].isin(products_filter)]"
   ]
  },
  {
   "cell_type": "code",
   "execution_count": 7,
   "metadata": {},
   "outputs": [],
   "source": [
    "orders_with_bananas = order_products_with_bananas['order_id'].unique() # IDs of all orders with bananas"
   ]
  },
  {
   "cell_type": "code",
   "execution_count": 8,
   "metadata": {},
   "outputs": [],
   "source": [
    "orders['contains_bananas'] = 0\n",
    "orders.loc[orders['order_id'].isin(orders_with_bananas),'contains_bananas'] = 1"
   ]
  },
  {
   "cell_type": "code",
   "execution_count": null,
   "metadata": {},
   "outputs": [],
   "source": []
  },
  {
   "cell_type": "code",
   "execution_count": null,
   "metadata": {},
   "outputs": [],
   "source": []
  },
  {
   "cell_type": "markdown",
   "metadata": {},
   "source": [
    "## Create dataframe or array X of inputs and one of outputs Y "
   ]
  },
  {
   "cell_type": "markdown",
   "metadata": {},
   "source": []
  },
  {
   "cell_type": "markdown",
   "metadata": {
    "jupyter": {
     "outputs_hidden": true
    }
   },
   "source": [
    "#### Eine Spalte 'previous_order_contains_bananas' zum 'orders' DataFrame hinzufügen"
   ]
  },
  {
   "cell_type": "code",
   "execution_count": 9,
   "metadata": {},
   "outputs": [],
   "source": [
    "h = orders[['order_id','user_id','order_number','contains_bananas']]\n",
    "h2 = h.copy()\n",
    "h2['on_orig']=h2['order_number']\n",
    "h2['order_number'] -= 1\n",
    "order_pairs = h.merge(h2, on=['user_id','order_number']) # The columns named *_x are from the previous order, the ones from *_y from the current order\n"
   ]
  },
  {
   "cell_type": "code",
   "execution_count": 10,
   "metadata": {},
   "outputs": [],
   "source": [
    "# Daraus X und Y extrahieren"
   ]
  },
  {
   "cell_type": "code",
   "execution_count": 11,
   "metadata": {},
   "outputs": [],
   "source": [
    "X = order_pairs['contains_bananas_x']\n",
    "Y = order_pairs['contains_bananas_y']"
   ]
  },
  {
   "cell_type": "code",
   "execution_count": null,
   "metadata": {},
   "outputs": [],
   "source": []
  },
  {
   "cell_type": "code",
   "execution_count": 12,
   "metadata": {},
   "outputs": [],
   "source": [
    "def copy_input_model(X):\n",
    "    return X \n",
    "def always_say_no_model(X):\n",
    "    return np.zeros(X.shape[0])\n",
    "def always_say_yes_model(X):\n",
    "    return np.ones(X.shape[0])\n",
    "def random_model(X, prob=0.5):\n",
    "    return (np.random.rand(X.shape[0])<prob)*1 # the \"*1\" converts the array of booleans to one of 0/1s\n"
   ]
  },
  {
   "cell_type": "code",
   "execution_count": null,
   "metadata": {},
   "outputs": [],
   "source": []
  },
  {
   "cell_type": "code",
   "execution_count": 13,
   "metadata": {},
   "outputs": [],
   "source": [
    "def accuracy(out, true_out):\n",
    "    return sum(true_out==out)/len(out)\n",
    "def precision(out, true_out):\n",
    "    return sum((out==1) & (true_out==1))/sum(out==1)\n",
    "def recall(out, true_out):\n",
    "    return sum((out==1) & (true_out==1))/sum(true_out==1)\n",
    "def f1(out, true_out):\n",
    "    return 2/(1/precision(out,true_out)+1/recall(out,true_out))\n",
    "def kosten(out, true_out):\n",
    "    return sum((out==1) & (true_out==0))*0.11+sum((out==0) & (true_out==1))*0.89\n"
   ]
  },
  {
   "cell_type": "code",
   "execution_count": 14,
   "metadata": {},
   "outputs": [
    {
     "name": "stdout",
     "output_type": "stream",
     "text": [
      "Accuracy:  0.8848819580487447\n",
      "Precision:  0.509921507616752\n",
      "Recall:  0.536751458391206\n",
      "F1-score:  0.5229926094723518\n",
      "Kosten:  177288.68000000002\n"
     ]
    }
   ],
   "source": [
    "out = copy_input_model(X)\n",
    "print(\"Accuracy: \",accuracy(out,Y))\n",
    "print(\"Precision: \",precision(out,Y))\n",
    "print(\"Recall: \",recall(out,Y))\n",
    "print(\"F1-score: \",f1(out,Y))\n",
    "print(\"Kosten: \",kosten(out,Y))\n"
   ]
  },
  {
   "cell_type": "code",
   "execution_count": 15,
   "metadata": {},
   "outputs": [
    {
     "name": "stdout",
     "output_type": "stream",
     "text": [
      "Accuracy:  0.8824261852875105\n",
      "Recall:  0.0\n",
      "Kosten:  336406.65\n"
     ]
    }
   ],
   "source": [
    "out = always_say_no_model(X)\n",
    "print(\"Accuracy: \",accuracy(out,Y))\n",
    "# print(\"Precision: \",precision(out,Y))\n",
    "print(\"Recall: \",recall(out,Y))\n",
    "# print(\"F1-score: \",f1(out,Y))\n",
    "print(\"Kosten: \",kosten(out,Y))"
   ]
  },
  {
   "cell_type": "code",
   "execution_count": 16,
   "metadata": {},
   "outputs": [
    {
     "name": "stdout",
     "output_type": "stream",
     "text": [
      "Accuracy:  0.11757381471248951\n",
      "Precision:  0.11757381471248951\n",
      "Recall:  1.0\n",
      "F1-score:  0.21040903636908656\n",
      "Kosten:  312057.79\n"
     ]
    }
   ],
   "source": [
    "out = always_say_yes_model(X)\n",
    "print(\"Accuracy: \",accuracy(out,Y))\n",
    "print(\"Precision: \",precision(out,Y))\n",
    "print(\"Recall: \",recall(out,Y))\n",
    "print(\"F1-score: \",f1(out,Y))\n",
    "print(\"Kosten: \",kosten(out,Y))"
   ]
  },
  {
   "cell_type": "code",
   "execution_count": null,
   "metadata": {},
   "outputs": [],
   "source": []
  },
  {
   "cell_type": "code",
   "execution_count": null,
   "metadata": {},
   "outputs": [],
   "source": []
  },
  {
   "cell_type": "code",
   "execution_count": null,
   "metadata": {},
   "outputs": [],
   "source": []
  },
  {
   "cell_type": "markdown",
   "metadata": {},
   "source": [
    "#### Im Folgenden werden die Werte der *Konfusionsmatrix* berechnet:"
   ]
  },
  {
   "cell_type": "code",
   "execution_count": 17,
   "metadata": {},
   "outputs": [
    {
     "data": {
      "text/plain": [
       "202884"
      ]
     },
     "execution_count": 17,
     "metadata": {},
     "output_type": "execute_result"
    }
   ],
   "source": [
    "# prev and subsequent order contain bananas \n",
    "b_b = len(order_pairs[(order_pairs['contains_bananas_x'] == 1 ) & (order_pairs['contains_bananas_y'] == 1 )].index)\n",
    "b_b"
   ]
  },
  {
   "cell_type": "code",
   "execution_count": 18,
   "metadata": {},
   "outputs": [
    {
     "data": {
      "text/plain": [
       "175101"
      ]
     },
     "execution_count": 18,
     "metadata": {},
     "output_type": "execute_result"
    }
   ],
   "source": [
    "# prev order contains no bananas, subsequent does\n",
    "nb_b = len(order_pairs[(order_pairs['contains_bananas_x'] == 0 ) & (order_pairs['contains_bananas_y'] == 1 )].index)\n",
    "nb_b"
   ]
  },
  {
   "cell_type": "code",
   "execution_count": 19,
   "metadata": {},
   "outputs": [
    {
     "data": {
      "text/plain": [
       "194989"
      ]
     },
     "execution_count": 19,
     "metadata": {},
     "output_type": "execute_result"
    }
   ],
   "source": [
    "# prev order contains bananas, subsequent does not\n",
    "b_nb = len(order_pairs[(order_pairs['contains_bananas_x'] == 1 ) & (order_pairs['contains_bananas_y'] == 0 )].index)\n",
    "b_nb"
   ]
  },
  {
   "cell_type": "code",
   "execution_count": 20,
   "metadata": {},
   "outputs": [
    {
     "data": {
      "text/plain": [
       "2641900"
      ]
     },
     "execution_count": 20,
     "metadata": {},
     "output_type": "execute_result"
    }
   ],
   "source": [
    "# neither previous nor subsequemt order contain bananas\n",
    "nb_nb = len(order_pairs[(order_pairs['contains_bananas_x'] == 0 ) & (order_pairs['contains_bananas_y'] == 0 )].index)\n",
    "nb_nb"
   ]
  },
  {
   "cell_type": "code",
   "execution_count": 21,
   "metadata": {},
   "outputs": [
    {
     "data": {
      "text/plain": [
       "3214874"
      ]
     },
     "execution_count": 21,
     "metadata": {},
     "output_type": "execute_result"
    }
   ],
   "source": [
    "total_orders = b_b + nb_b + b_nb + nb_nb\n",
    "total_orders"
   ]
  },
  {
   "cell_type": "markdown",
   "metadata": {},
   "source": [
    "### Antworten auf 3a, 3b, 3c"
   ]
  },
  {
   "cell_type": "code",
   "execution_count": 22,
   "metadata": {},
   "outputs": [
    {
     "data": {
      "text/plain": [
       "0.509921507616752"
      ]
     },
     "execution_count": 22,
     "metadata": {},
     "output_type": "execute_result"
    }
   ],
   "source": [
    "# 3a: Wie wahrscheinlich ist es, dass die nächste Bestellung eines Users 'organic bananas' enthält wenn die vorherige Bestellung organic bananas enthalten hat.\n",
    "b_b / (b_b + b_nb)"
   ]
  },
  {
   "cell_type": "code",
   "execution_count": 23,
   "metadata": {},
   "outputs": [
    {
     "data": {
      "text/plain": [
       "0.06215865738066831"
      ]
     },
     "execution_count": 23,
     "metadata": {},
     "output_type": "execute_result"
    }
   ],
   "source": [
    "# 3b: Wie wahrscheinlich ist es, dass die nächste Bestellung eines Users 'organic bananas' enthält wenn die vorherige Bestellung keine organic bananas enthalten hat.\n",
    "nb_b / (nb_b + nb_nb)"
   ]
  },
  {
   "cell_type": "code",
   "execution_count": 24,
   "metadata": {},
   "outputs": [
    {
     "data": {
      "text/plain": [
       "0.11757381471248951"
      ]
     },
     "execution_count": 24,
     "metadata": {},
     "output_type": "execute_result"
    }
   ],
   "source": [
    "# 3c: Wie wahrscheinlich ist es, dass die nächste Bestellung eines Users 'organic bananas' enthält (egal was vorher war)\n",
    "(nb_b + b_b) / total_orders"
   ]
  },
  {
   "cell_type": "code",
   "execution_count": null,
   "metadata": {},
   "outputs": [],
   "source": []
  }
 ],
 "metadata": {
  "kernelspec": {
   "display_name": "Python 3",
   "language": "python",
   "name": "python3"
  },
  "language_info": {
   "codemirror_mode": {
    "name": "ipython",
    "version": 3
   },
   "file_extension": ".py",
   "mimetype": "text/x-python",
   "name": "python",
   "nbconvert_exporter": "python",
   "pygments_lexer": "ipython3",
   "version": "3.8.3"
  }
 },
 "nbformat": 4,
 "nbformat_minor": 4
}
