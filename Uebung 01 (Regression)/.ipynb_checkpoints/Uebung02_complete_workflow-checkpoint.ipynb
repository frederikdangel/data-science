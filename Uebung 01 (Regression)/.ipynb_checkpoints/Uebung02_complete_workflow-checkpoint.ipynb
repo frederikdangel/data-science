{
 "cells": [
  {
   "cell_type": "code",
   "execution_count": 1,
   "metadata": {},
   "outputs": [],
   "source": [
    "import numpy as np\n",
    "import matplotlib.pyplot as plt\n",
    "import pandas as pd"
   ]
  },
  {
   "cell_type": "markdown",
   "metadata": {},
   "source": [
    "## Hintergrund:\n",
    "#### In den verschiedenen Dateien \"DS1_x.csv\" sind unterschiedlich große Datenbestände des gleichen Sachverhaltes. Damit können wir ausprobieren, was sich ändert, wenn wir mehr oder weniger Daten zur Verfügung haben.\n",
    "#### Es geht dabei um eine Produktionsmaschine. \"y\" ist ein Maß für die Fertigungsungenauigkeiten, d.h. Abweichungen der Ist- von den Sollmaßen. \n",
    "#### Die Variablen x0 bis x3 beschreiben Parameter des Produktionsprozesses wie Temperaturen an verschiedenen Stellen. \n",
    "#### Die Variable 'article' gibt an, welcher Artikel von der Maschine in der jeweiligen Zeile des Datensatzes produziert wurde. "
   ]
  },
  {
   "cell_type": "markdown",
   "metadata": {},
   "source": [
    "## Ziel der Analyse\n",
    "### Die Fertigungsgenauigkeit soll verbessert werden. Dazu wollen wir untersuchen, welche Parameter Einfluß auf die Qualität des Ergebnisses haben. \n",
    "#### Wenn beispielsweise eine Temperatur an einer bestimmten Stelle im Fertigungsprozess sich als wichtig erweist, kann man sie vielleicht durch teschnische Maßnahmen an der Maschine (Kühlung/Heizung) beeinflussen, und so die Qualität des Ergebnisses verbessern. "
   ]
  },
  {
   "cell_type": "markdown",
   "metadata": {},
   "source": [
    "### Schritt 1: Quelldaten im Original anschauen"
   ]
  },
  {
   "cell_type": "markdown",
   "metadata": {},
   "source": [
    "### Schritt 2: Daten laden und in Python ersten Überblick gewinnen"
   ]
  },
  {
   "cell_type": "markdown",
   "metadata": {},
   "source": [
    "\n"
   ]
  },
  {
   "cell_type": "code",
   "execution_count": 2,
   "metadata": {},
   "outputs": [],
   "source": [
    "# Read data from csv file\n",
    "df = pd.read_csv('DS1_50.csv')\n",
    "df_test = pd.read_csv('DS1_1000.csv') # (Unealistically big) test data for reliable evaluation "
   ]
  },
  {
   "cell_type": "code",
   "execution_count": 3,
   "metadata": {},
   "outputs": [
    {
     "data": {
      "text/html": [
       "<div>\n",
       "<style scoped>\n",
       "    .dataframe tbody tr th:only-of-type {\n",
       "        vertical-align: middle;\n",
       "    }\n",
       "\n",
       "    .dataframe tbody tr th {\n",
       "        vertical-align: top;\n",
       "    }\n",
       "\n",
       "    .dataframe thead th {\n",
       "        text-align: right;\n",
       "    }\n",
       "</style>\n",
       "<table border=\"1\" class=\"dataframe\">\n",
       "  <thead>\n",
       "    <tr style=\"text-align: right;\">\n",
       "      <th></th>\n",
       "      <th>x0</th>\n",
       "      <th>x1</th>\n",
       "      <th>x2</th>\n",
       "      <th>x3</th>\n",
       "      <th>article</th>\n",
       "      <th>y</th>\n",
       "    </tr>\n",
       "  </thead>\n",
       "  <tbody>\n",
       "    <tr>\n",
       "      <th>0</th>\n",
       "      <td>129.910247</td>\n",
       "      <td>-174.295634</td>\n",
       "      <td>-0.148489</td>\n",
       "      <td>0.135006</td>\n",
       "      <td>L134QS</td>\n",
       "      <td>9.730587</td>\n",
       "    </tr>\n",
       "    <tr>\n",
       "      <th>1</th>\n",
       "      <td>131.935903</td>\n",
       "      <td>34.767800</td>\n",
       "      <td>0.759396</td>\n",
       "      <td>0.675498</td>\n",
       "      <td>M145RS</td>\n",
       "      <td>10.186560</td>\n",
       "    </tr>\n",
       "    <tr>\n",
       "      <th>2</th>\n",
       "      <td>105.054164</td>\n",
       "      <td>-102.154750</td>\n",
       "      <td>0.016013</td>\n",
       "      <td>-0.637706</td>\n",
       "      <td>Q243RA</td>\n",
       "      <td>9.427848</td>\n",
       "    </tr>\n",
       "    <tr>\n",
       "      <th>3</th>\n",
       "      <td>35.044431</td>\n",
       "      <td>-103.234909</td>\n",
       "      <td>0.726942</td>\n",
       "      <td>-1.651440</td>\n",
       "      <td>L134QS</td>\n",
       "      <td>7.033332</td>\n",
       "    </tr>\n",
       "    <tr>\n",
       "      <th>4</th>\n",
       "      <td>130.000460</td>\n",
       "      <td>-61.448860</td>\n",
       "      <td>0.311692</td>\n",
       "      <td>-1.395062</td>\n",
       "      <td>L134QS</td>\n",
       "      <td>8.096095</td>\n",
       "    </tr>\n",
       "  </tbody>\n",
       "</table>\n",
       "</div>"
      ],
      "text/plain": [
       "           x0          x1        x2        x3 article          y\n",
       "0  129.910247 -174.295634 -0.148489  0.135006  L134QS   9.730587\n",
       "1  131.935903   34.767800  0.759396  0.675498  M145RS  10.186560\n",
       "2  105.054164 -102.154750  0.016013 -0.637706  Q243RA   9.427848\n",
       "3   35.044431 -103.234909  0.726942 -1.651440  L134QS   7.033332\n",
       "4  130.000460  -61.448860  0.311692 -1.395062  L134QS   8.096095"
      ]
     },
     "execution_count": 3,
     "metadata": {},
     "output_type": "execute_result"
    }
   ],
   "source": [
    "df.head() # First few lines"
   ]
  },
  {
   "cell_type": "code",
   "execution_count": 4,
   "metadata": {},
   "outputs": [
    {
     "data": {
      "text/html": [
       "<div>\n",
       "<style scoped>\n",
       "    .dataframe tbody tr th:only-of-type {\n",
       "        vertical-align: middle;\n",
       "    }\n",
       "\n",
       "    .dataframe tbody tr th {\n",
       "        vertical-align: top;\n",
       "    }\n",
       "\n",
       "    .dataframe thead th {\n",
       "        text-align: right;\n",
       "    }\n",
       "</style>\n",
       "<table border=\"1\" class=\"dataframe\">\n",
       "  <thead>\n",
       "    <tr style=\"text-align: right;\">\n",
       "      <th></th>\n",
       "      <th>x0</th>\n",
       "      <th>x1</th>\n",
       "      <th>x2</th>\n",
       "      <th>x3</th>\n",
       "      <th>y</th>\n",
       "    </tr>\n",
       "  </thead>\n",
       "  <tbody>\n",
       "    <tr>\n",
       "      <th>count</th>\n",
       "      <td>50.000000</td>\n",
       "      <td>50.000000</td>\n",
       "      <td>50.000000</td>\n",
       "      <td>50.000000</td>\n",
       "      <td>50.000000</td>\n",
       "    </tr>\n",
       "    <tr>\n",
       "      <th>mean</th>\n",
       "      <td>5.346166</td>\n",
       "      <td>-5.059545</td>\n",
       "      <td>-0.101508</td>\n",
       "      <td>-0.080933</td>\n",
       "      <td>8.174491</td>\n",
       "    </tr>\n",
       "    <tr>\n",
       "      <th>std</th>\n",
       "      <td>101.545227</td>\n",
       "      <td>106.725998</td>\n",
       "      <td>0.989033</td>\n",
       "      <td>1.664660</td>\n",
       "      <td>2.801625</td>\n",
       "    </tr>\n",
       "    <tr>\n",
       "      <th>min</th>\n",
       "      <td>-204.180745</td>\n",
       "      <td>-174.295634</td>\n",
       "      <td>-2.185873</td>\n",
       "      <td>-3.390625</td>\n",
       "      <td>3.452492</td>\n",
       "    </tr>\n",
       "    <tr>\n",
       "      <th>25%</th>\n",
       "      <td>-60.869652</td>\n",
       "      <td>-101.458428</td>\n",
       "      <td>-0.891850</td>\n",
       "      <td>-1.386011</td>\n",
       "      <td>5.867845</td>\n",
       "    </tr>\n",
       "    <tr>\n",
       "      <th>50%</th>\n",
       "      <td>10.215235</td>\n",
       "      <td>-18.157560</td>\n",
       "      <td>-0.036398</td>\n",
       "      <td>-0.167336</td>\n",
       "      <td>7.938910</td>\n",
       "    </tr>\n",
       "    <tr>\n",
       "      <th>75%</th>\n",
       "      <td>70.870635</td>\n",
       "      <td>76.284066</td>\n",
       "      <td>0.604894</td>\n",
       "      <td>1.422209</td>\n",
       "      <td>9.951101</td>\n",
       "    </tr>\n",
       "    <tr>\n",
       "      <th>max</th>\n",
       "      <td>207.489848</td>\n",
       "      <td>331.991841</td>\n",
       "      <td>2.015776</td>\n",
       "      <td>2.989260</td>\n",
       "      <td>15.675836</td>\n",
       "    </tr>\n",
       "  </tbody>\n",
       "</table>\n",
       "</div>"
      ],
      "text/plain": [
       "               x0          x1         x2         x3          y\n",
       "count   50.000000   50.000000  50.000000  50.000000  50.000000\n",
       "mean     5.346166   -5.059545  -0.101508  -0.080933   8.174491\n",
       "std    101.545227  106.725998   0.989033   1.664660   2.801625\n",
       "min   -204.180745 -174.295634  -2.185873  -3.390625   3.452492\n",
       "25%    -60.869652 -101.458428  -0.891850  -1.386011   5.867845\n",
       "50%     10.215235  -18.157560  -0.036398  -0.167336   7.938910\n",
       "75%     70.870635   76.284066   0.604894   1.422209   9.951101\n",
       "max    207.489848  331.991841   2.015776   2.989260  15.675836"
      ]
     },
     "execution_count": 4,
     "metadata": {},
     "output_type": "execute_result"
    }
   ],
   "source": [
    "df.describe()  # Some basic statistics"
   ]
  },
  {
   "cell_type": "code",
   "execution_count": 5,
   "metadata": {},
   "outputs": [
    {
     "name": "stdout",
     "output_type": "stream",
     "text": [
      "<class 'pandas.core.frame.DataFrame'>\n",
      "RangeIndex: 50 entries, 0 to 49\n",
      "Data columns (total 6 columns):\n",
      " #   Column   Non-Null Count  Dtype  \n",
      "---  ------   --------------  -----  \n",
      " 0   x0       50 non-null     float64\n",
      " 1   x1       50 non-null     float64\n",
      " 2   x2       50 non-null     float64\n",
      " 3   x3       50 non-null     float64\n",
      " 4   article  50 non-null     object \n",
      " 5   y        50 non-null     float64\n",
      "dtypes: float64(5), object(1)\n",
      "memory usage: 2.5+ KB\n"
     ]
    }
   ],
   "source": [
    "df.info() # Some basic info about ndata types"
   ]
  },
  {
   "cell_type": "code",
   "execution_count": 6,
   "metadata": {},
   "outputs": [
    {
     "data": {
      "text/plain": [
       "x0         float64\n",
       "x1         float64\n",
       "x2         float64\n",
       "x3         float64\n",
       "article     object\n",
       "y          float64\n",
       "dtype: object"
      ]
     },
     "execution_count": 6,
     "metadata": {},
     "output_type": "execute_result"
    }
   ],
   "source": [
    "df.dtypes # even more basic info about data types"
   ]
  },
  {
   "cell_type": "code",
   "execution_count": 7,
   "metadata": {},
   "outputs": [
    {
     "data": {
      "text/plain": [
       "Index(['x0', 'x1', 'x2', 'x3', 'article', 'y'], dtype='object')"
      ]
     },
     "execution_count": 7,
     "metadata": {},
     "output_type": "execute_result"
    }
   ],
   "source": [
    "df.columns"
   ]
  },
  {
   "cell_type": "markdown",
   "metadata": {},
   "source": []
  },
  {
   "cell_type": "code",
   "execution_count": 8,
   "metadata": {},
   "outputs": [],
   "source": [
    "# Optional: Make separate variables for each column for convenience \n",
    "x0 = df['x0']\n",
    "x1 = df['x1']\n",
    "x2 = df['x2']\n",
    "x3 = df['x3']\n",
    "article = df['article']\n",
    "y = df['y']"
   ]
  },
  {
   "cell_type": "markdown",
   "metadata": {},
   "source": [
    "### Schritt 3: Ersten Blick auf Zusammenhänge zwischen den Variablen werfen."
   ]
  },
  {
   "cell_type": "code",
   "execution_count": 9,
   "metadata": {},
   "outputs": [
    {
     "data": {
      "text/html": [
       "<div>\n",
       "<style scoped>\n",
       "    .dataframe tbody tr th:only-of-type {\n",
       "        vertical-align: middle;\n",
       "    }\n",
       "\n",
       "    .dataframe tbody tr th {\n",
       "        vertical-align: top;\n",
       "    }\n",
       "\n",
       "    .dataframe thead th {\n",
       "        text-align: right;\n",
       "    }\n",
       "</style>\n",
       "<table border=\"1\" class=\"dataframe\">\n",
       "  <thead>\n",
       "    <tr style=\"text-align: right;\">\n",
       "      <th></th>\n",
       "      <th>x0</th>\n",
       "      <th>x1</th>\n",
       "      <th>x2</th>\n",
       "      <th>x3</th>\n",
       "      <th>y</th>\n",
       "    </tr>\n",
       "  </thead>\n",
       "  <tbody>\n",
       "    <tr>\n",
       "      <th>x0</th>\n",
       "      <td>1.000000</td>\n",
       "      <td>0.162130</td>\n",
       "      <td>-0.069976</td>\n",
       "      <td>0.014506</td>\n",
       "      <td>0.410936</td>\n",
       "    </tr>\n",
       "    <tr>\n",
       "      <th>x1</th>\n",
       "      <td>0.162130</td>\n",
       "      <td>1.000000</td>\n",
       "      <td>-0.124050</td>\n",
       "      <td>0.520365</td>\n",
       "      <td>0.552432</td>\n",
       "    </tr>\n",
       "    <tr>\n",
       "      <th>x2</th>\n",
       "      <td>-0.069976</td>\n",
       "      <td>-0.124050</td>\n",
       "      <td>1.000000</td>\n",
       "      <td>0.609138</td>\n",
       "      <td>0.458730</td>\n",
       "    </tr>\n",
       "    <tr>\n",
       "      <th>x3</th>\n",
       "      <td>0.014506</td>\n",
       "      <td>0.520365</td>\n",
       "      <td>0.609138</td>\n",
       "      <td>1.000000</td>\n",
       "      <td>0.783288</td>\n",
       "    </tr>\n",
       "    <tr>\n",
       "      <th>y</th>\n",
       "      <td>0.410936</td>\n",
       "      <td>0.552432</td>\n",
       "      <td>0.458730</td>\n",
       "      <td>0.783288</td>\n",
       "      <td>1.000000</td>\n",
       "    </tr>\n",
       "  </tbody>\n",
       "</table>\n",
       "</div>"
      ],
      "text/plain": [
       "          x0        x1        x2        x3         y\n",
       "x0  1.000000  0.162130 -0.069976  0.014506  0.410936\n",
       "x1  0.162130  1.000000 -0.124050  0.520365  0.552432\n",
       "x2 -0.069976 -0.124050  1.000000  0.609138  0.458730\n",
       "x3  0.014506  0.520365  0.609138  1.000000  0.783288\n",
       "y   0.410936  0.552432  0.458730  0.783288  1.000000"
      ]
     },
     "execution_count": 9,
     "metadata": {},
     "output_type": "execute_result"
    }
   ],
   "source": [
    "# All pairwise correlations in one: Show correlation matrix\n",
    "df.corr()"
   ]
  },
  {
   "cell_type": "code",
   "execution_count": 10,
   "metadata": {},
   "outputs": [
    {
     "data": {
      "text/plain": [
       "<matplotlib.colorbar.Colorbar at 0x202434be490>"
      ]
     },
     "execution_count": 10,
     "metadata": {},
     "output_type": "execute_result"
    },
    {
     "data": {
      "image/png": "[encoded data removed]",
      "text/plain": [
       "<Figure size 288x288 with 2 Axes>"
      ]
     },
     "metadata": {
      "needs_background": "light"
     },
     "output_type": "display_data"
    }
   ],
   "source": [
    "# Visualize the correlation matrix\n",
    "import matplotlib.pyplot as plt\n",
    "plt.matshow(df.corr())\n",
    "plt.colorbar()"
   ]
  },
  {
   "cell_type": "markdown",
   "metadata": {},
   "source": []
  },
  {
   "cell_type": "code",
   "execution_count": 11,
   "metadata": {},
   "outputs": [
    {
     "data": {
      "text/plain": [
       "Text(0, 0.5, 'x1')"
      ]
     },
     "execution_count": 11,
     "metadata": {},
     "output_type": "execute_result"
    },
    {
     "data": {
      "image/png": "[encoded data removed]",
      "text/plain": [
       "<Figure size 432x288 with 1 Axes>"
      ]
     },
     "metadata": {
      "needs_background": "light"
     },
     "output_type": "display_data"
    }
   ],
   "source": [
    "# Visualize as scatter plot (Streudiagramm)\n",
    "plt.scatter(x0,x1,c=(y-min(df['y'])+1)) # scatterplot of x1 against x2 where the color represents y \n",
    "plt.xlabel('x0')\n",
    "plt.ylabel('x1')"
   ]
  },
  {
   "cell_type": "code",
   "execution_count": 12,
   "metadata": {},
   "outputs": [
    {
     "data": {
      "image/png": "[encoded data removed]",
      "text/plain": [
       "<Figure size 432x288 with 25 Axes>"
      ]
     },
     "metadata": {
      "needs_background": "light"
     },
     "output_type": "display_data"
    }
   ],
   "source": [
    "pd.plotting.scatter_matrix(df);"
   ]
  },
  {
   "cell_type": "code",
   "execution_count": 13,
   "metadata": {},
   "outputs": [
    {
     "data": {
      "image/png": "[encoded data removed]",
      "text/plain": [
       "<Figure size 432x288 with 1 Axes>"
      ]
     },
     "metadata": {
      "needs_background": "light"
     },
     "output_type": "display_data"
    }
   ],
   "source": [
    "from matplotlib import pyplot\n",
    "from mpl_toolkits.mplot3d import Axes3D\n",
    "import random\n",
    "\n",
    "\n",
    "fig = pyplot.figure()\n",
    "ax = Axes3D(fig)\n",
    "\n",
    "\n",
    "ax.scatter(x2, x3, y)\n",
    "pyplot.show()"
   ]
  },
  {
   "cell_type": "code",
   "execution_count": null,
   "metadata": {},
   "outputs": [],
   "source": []
  },
  {
   "cell_type": "markdown",
   "metadata": {},
   "source": [
    "### Schritt 3: Lineares Modell"
   ]
  },
  {
   "cell_type": "markdown",
   "metadata": {},
   "source": [
    "##### Die Korrelation sagt aus, wie gut y sich aus den EINZELNEN Inputs (mit einem linearen Modell) vorhersagen lässt. Ein lineares Modell zeigt zusätzlich, ob die Information aus den verschiedenen Inputs redundant zueinander ist, oder sich ergänzt. "
   ]
  },
  {
   "cell_type": "code",
   "execution_count": 14,
   "metadata": {},
   "outputs": [],
   "source": [
    "# Split data in Inputs (X) and outputs (Y)\n",
    "X = df[['x0','x1','x2','x3']]\n",
    "# X = df[df.columns.difference(['y','article'])] # alle Spalten außer 'y' und 'article'\n",
    "Y = df['y'] "
   ]
  },
  {
   "cell_type": "code",
   "execution_count": 15,
   "metadata": {},
   "outputs": [
    {
     "name": "stdout",
     "output_type": "stream",
     "text": [
      "Inputs:  Index(['x0', 'x1', 'x2', 'x3'], dtype='object') \n",
      "\n",
      "Corresponding Coefficients: \n",
      " [0.01045065 0.00589512 0.49764372 0.93225147]\n",
      "Intercept: \n",
      " 8.274411247664181\n"
     ]
    }
   ],
   "source": [
    "from sklearn import datasets, linear_model\n",
    "from sklearn.metrics import mean_squared_error, r2_score\n",
    "regr = linear_model.LinearRegression()\n",
    "regr.fit(X, Y) # Learn the coefficients of a linear model predicting Y from X\n",
    "# display coefficients of the linear model\n",
    "print('Inputs: ', X.columns,'\\n')\n",
    "print('Corresponding Coefficients: \\n', regr.coef_) \n",
    "print('Intercept: \\n', regr.intercept_)"
   ]
  },
  {
   "cell_type": "markdown",
   "metadata": {},
   "source": [
    "##### Interpretation: Das lineare Modell berechnet also Schätzwerte für y nach folgender Formel:\n",
    "##### 0.01045065*x0 - 0.00589512*x1 - 0.49764372*x2 + 0.93225147*x3 + 8.274411247664181"
   ]
  },
  {
   "cell_type": "markdown",
   "metadata": {},
   "source": [
    "#### Wie gut ist dieses Modell? "
   ]
  },
  {
   "cell_type": "code",
   "execution_count": 16,
   "metadata": {},
   "outputs": [
    {
     "name": "stdout",
     "output_type": "stream",
     "text": [
      "Variance explained: 0.79\n",
      "Mean squared error: 1.58\n",
      "Variance of target variable: 7.69\n",
      "Variance explained: 0.79\n"
     ]
    }
   ],
   "source": [
    "# Simplest version: Score = R2 = 'Variance explained' on training data set:\n",
    "# Which fraction of the variance of the target variable can be explained by the model:\n",
    "print('Variance explained: %.2f' % regr.score(X,Y)) # The R^2 score is defined as 1- (mean_sq-err / variance)\n",
    "\n",
    "# More generic way of evaluating a model:\n",
    "pred = regr.predict(X) # Apply the model and compute predictions for each line in X\n",
    "# Then one can compute various metrics based on the vectors of true versus predicted output values: \n",
    "print(\"Mean squared error: %.2f\" % mean_squared_error(Y, pred))\n",
    "print(\"Variance of target variable: %.2f\" % np.var(Y))\n",
    "print('Variance explained: %.2f' % r2_score(Y, pred)) # The R^2 score is defined as 1- (mean_sq_err / variance)"
   ]
  },
  {
   "cell_type": "markdown",
   "metadata": {},
   "source": [
    "##### Das Modell erklärt also 79% der Varianz von Y"
   ]
  },
  {
   "cell_type": "markdown",
   "metadata": {},
   "source": [
    "### Interpretation des Modells\n",
    "##### Auffällig: Die Koeffizienten zu x0 und x1 sind viel kleiner als der zu x2, obwohl alle drei ähnlich stark mit y korrelieren. Mögliche Erklärungen:\n",
    "##### 1. Die in x0 und x1 enthaltene Information zur Prognose von y ist redundant zu der in x2 und x3 enthaltenen. Wenn man x2 und x3 bereits kennt, bringen x0 und x1 also kaum zusätzlichen Nutzen.\n",
    "##### 2. Die Skalierung von x0 und x1 ist anders als die von x2 und x3. Der Schluss, dass x0 und x1 für die Prognose kaum benutzt werden ist also falsch, da der Wertebereich von beispielsweise x0 so groß ist, dass x0 trotz des kleinen Koeffizienten erheblich zum Schätzwert beiträgt. "
   ]
  },
  {
   "cell_type": "markdown",
   "metadata": {},
   "source": [
    "##### Prüft man die Skalierung, stellt man fest, dass 2. zutrifft. Man muss die Inputs also vor der Regressionsanalyse auf eine vergleichbare Skala bringen. Erst dann kann man die Regressionskoeffizienten interpretieren. "
   ]
  },
  {
   "cell_type": "markdown",
   "metadata": {},
   "source": [
    "#### Schritt 3a: Lineares Modell mit passend skalierten Inputs"
   ]
  },
  {
   "cell_type": "code",
   "execution_count": 17,
   "metadata": {},
   "outputs": [],
   "source": [
    "# Scale X (to mean 0) and std 1 \n",
    "from sklearn.preprocessing import StandardScaler\n",
    "scaler = StandardScaler(with_mean=False) # with_mean=False: dont rescale the means to being all zero\n",
    "Xs = pd.DataFrame(scaler.fit_transform(X[X.columns]))\n",
    "Xs.columns = X.columns"
   ]
  },
  {
   "cell_type": "code",
   "execution_count": 18,
   "metadata": {},
   "outputs": [
    {
     "data": {
      "text/html": [
       "<div>\n",
       "<style scoped>\n",
       "    .dataframe tbody tr th:only-of-type {\n",
       "        vertical-align: middle;\n",
       "    }\n",
       "\n",
       "    .dataframe tbody tr th {\n",
       "        vertical-align: top;\n",
       "    }\n",
       "\n",
       "    .dataframe thead th {\n",
       "        text-align: right;\n",
       "    }\n",
       "</style>\n",
       "<table border=\"1\" class=\"dataframe\">\n",
       "  <thead>\n",
       "    <tr style=\"text-align: right;\">\n",
       "      <th></th>\n",
       "      <th>x0</th>\n",
       "      <th>x1</th>\n",
       "      <th>x2</th>\n",
       "      <th>x3</th>\n",
       "    </tr>\n",
       "  </thead>\n",
       "  <tbody>\n",
       "    <tr>\n",
       "      <th>count</th>\n",
       "      <td>50.000000</td>\n",
       "      <td>50.000000</td>\n",
       "      <td>50.000000</td>\n",
       "      <td>50.000000</td>\n",
       "    </tr>\n",
       "    <tr>\n",
       "      <th>mean</th>\n",
       "      <td>0.053183</td>\n",
       "      <td>-0.047888</td>\n",
       "      <td>-0.103676</td>\n",
       "      <td>-0.049112</td>\n",
       "    </tr>\n",
       "    <tr>\n",
       "      <th>std</th>\n",
       "      <td>1.010153</td>\n",
       "      <td>1.010153</td>\n",
       "      <td>1.010153</td>\n",
       "      <td>1.010153</td>\n",
       "    </tr>\n",
       "    <tr>\n",
       "      <th>min</th>\n",
       "      <td>-2.031151</td>\n",
       "      <td>-1.649693</td>\n",
       "      <td>-2.232550</td>\n",
       "      <td>-2.057506</td>\n",
       "    </tr>\n",
       "    <tr>\n",
       "      <th>25%</th>\n",
       "      <td>-0.605520</td>\n",
       "      <td>-0.960295</td>\n",
       "      <td>-0.910894</td>\n",
       "      <td>-0.841062</td>\n",
       "    </tr>\n",
       "    <tr>\n",
       "      <th>50%</th>\n",
       "      <td>0.101619</td>\n",
       "      <td>-0.171860</td>\n",
       "      <td>-0.037176</td>\n",
       "      <td>-0.101543</td>\n",
       "    </tr>\n",
       "    <tr>\n",
       "      <th>75%</th>\n",
       "      <td>0.705008</td>\n",
       "      <td>0.722022</td>\n",
       "      <td>0.617811</td>\n",
       "      <td>0.863028</td>\n",
       "    </tr>\n",
       "    <tr>\n",
       "      <th>max</th>\n",
       "      <td>2.064069</td>\n",
       "      <td>3.142275</td>\n",
       "      <td>2.058821</td>\n",
       "      <td>1.813949</td>\n",
       "    </tr>\n",
       "  </tbody>\n",
       "</table>\n",
       "</div>"
      ],
      "text/plain": [
       "              x0         x1         x2         x3\n",
       "count  50.000000  50.000000  50.000000  50.000000\n",
       "mean    0.053183  -0.047888  -0.103676  -0.049112\n",
       "std     1.010153   1.010153   1.010153   1.010153\n",
       "min    -2.031151  -1.649693  -2.232550  -2.057506\n",
       "25%    -0.605520  -0.960295  -0.910894  -0.841062\n",
       "50%     0.101619  -0.171860  -0.037176  -0.101543\n",
       "75%     0.705008   0.722022   0.617811   0.863028\n",
       "max     2.064069   3.142275   2.058821   1.813949"
      ]
     },
     "execution_count": 18,
     "metadata": {},
     "output_type": "execute_result"
    }
   ],
   "source": [
    "Xs.describe()"
   ]
  },
  {
   "cell_type": "code",
   "execution_count": 19,
   "metadata": {},
   "outputs": [
    {
     "name": "stdout",
     "output_type": "stream",
     "text": [
      "['x0' 'x1' 'x2' 'x3']\n",
      "Coefficients: \n",
      " [1.05054769 0.62283949 0.48723924 1.53628456]\n",
      "Intercept: \n",
      " 8.27441124766418\n",
      "On Training set:\n",
      "Mean squared error: 1.58\n",
      "Variance of target variable: 7.69\n",
      "Variance explained: 0.79\n"
     ]
    }
   ],
   "source": [
    "regr = linear_model.LinearRegression()\n",
    "regr.fit(Xs, Y)\n",
    "pred = regr.predict(Xs)\n",
    "print(Xs.columns.values)\n",
    "print('Coefficients: \\n', regr.coef_)\n",
    "print('Intercept: \\n', regr.intercept_)\n",
    "print('On Training set:')\n",
    "print(\"Mean squared error: %.2f\" % mean_squared_error(Y, pred))\n",
    "print(\"Variance of target variable: %.2f\" % np.var(Y))\n",
    "print('Variance explained: %.2f' % r2_score(Y, pred))"
   ]
  },
  {
   "cell_type": "markdown",
   "metadata": {},
   "source": [
    "##### Interpretation? \n",
    "##### Da x0 ... x3 gleich skaliert sind, kann man jetzt die Regressionskoeffizienten vergleichen. \n",
    "##### 1. Dabei fällt auf, dass der Koeffizient vor x0 betragsmäßig deutlich größer ist, als der vor x1 und x2, obwohl alle drei ähnlich stark mit y korrelieren. Dies muss daran liegen, dass die in x1 und x2 über y enthaltene Information großenteils redundant zu der in x0 und x3 enthaltenen ist. Wenn alle vier Werte zur Verfügung stehen, sind x1 und x2 offenbar nicht wichtig. Dies könnte ein Indiz dafür sein, dass x1 und x2 vielleicht x0 und x3 beeinflussen, und x0 und x3 dann y. \n",
    "##### 2. Lineare Modelle werden durch umskalieren der Inputs weder besser noch schlechter. Variance explained bleibt bei 79%"
   ]
  },
  {
   "cell_type": "markdown",
   "metadata": {},
   "source": [
    "### Schritt3b: Input 'article' nutzbar machen (\"1 hot encoding\")"
   ]
  },
  {
   "cell_type": "markdown",
   "metadata": {},
   "source": [
    "Da 'article' ein nominales Merkmal ist, kann man ihn nicht direkt als Input eines linearen Modells benutzen. Auch articleID ist nominal, da die IDs willkürlich gewählt sind, und sollte deshalb nicht direkt als Input verwendet werden.  "
   ]
  },
  {
   "cell_type": "code",
   "execution_count": 20,
   "metadata": {},
   "outputs": [
    {
     "data": {
      "text/html": [
       "<div>\n",
       "<style scoped>\n",
       "    .dataframe tbody tr th:only-of-type {\n",
       "        vertical-align: middle;\n",
       "    }\n",
       "\n",
       "    .dataframe tbody tr th {\n",
       "        vertical-align: top;\n",
       "    }\n",
       "\n",
       "    .dataframe thead th {\n",
       "        text-align: right;\n",
       "    }\n",
       "</style>\n",
       "<table border=\"1\" class=\"dataframe\">\n",
       "  <thead>\n",
       "    <tr style=\"text-align: right;\">\n",
       "      <th></th>\n",
       "      <th>x0</th>\n",
       "      <th>x1</th>\n",
       "      <th>x2</th>\n",
       "      <th>x3</th>\n",
       "      <th>article_L134QS</th>\n",
       "      <th>article_M145RS</th>\n",
       "      <th>article_M375AZ</th>\n",
       "      <th>article_N4517AS</th>\n",
       "      <th>article_N537LQ</th>\n",
       "      <th>article_Q243RA</th>\n",
       "    </tr>\n",
       "  </thead>\n",
       "  <tbody>\n",
       "    <tr>\n",
       "      <th>0</th>\n",
       "      <td>1.292322</td>\n",
       "      <td>-1.649693</td>\n",
       "      <td>-0.151660</td>\n",
       "      <td>0.081925</td>\n",
       "      <td>1</td>\n",
       "      <td>0</td>\n",
       "      <td>0</td>\n",
       "      <td>0</td>\n",
       "      <td>0</td>\n",
       "      <td>0</td>\n",
       "    </tr>\n",
       "    <tr>\n",
       "      <th>1</th>\n",
       "      <td>1.312473</td>\n",
       "      <td>0.329074</td>\n",
       "      <td>0.775613</td>\n",
       "      <td>0.409907</td>\n",
       "      <td>0</td>\n",
       "      <td>1</td>\n",
       "      <td>0</td>\n",
       "      <td>0</td>\n",
       "      <td>0</td>\n",
       "      <td>0</td>\n",
       "    </tr>\n",
       "    <tr>\n",
       "      <th>2</th>\n",
       "      <td>1.045059</td>\n",
       "      <td>-0.966886</td>\n",
       "      <td>0.016355</td>\n",
       "      <td>-0.386974</td>\n",
       "      <td>0</td>\n",
       "      <td>0</td>\n",
       "      <td>0</td>\n",
       "      <td>0</td>\n",
       "      <td>0</td>\n",
       "      <td>1</td>\n",
       "    </tr>\n",
       "    <tr>\n",
       "      <th>3</th>\n",
       "      <td>0.348615</td>\n",
       "      <td>-0.977110</td>\n",
       "      <td>0.742465</td>\n",
       "      <td>-1.002131</td>\n",
       "      <td>1</td>\n",
       "      <td>0</td>\n",
       "      <td>0</td>\n",
       "      <td>0</td>\n",
       "      <td>0</td>\n",
       "      <td>0</td>\n",
       "    </tr>\n",
       "    <tr>\n",
       "      <th>4</th>\n",
       "      <td>1.293220</td>\n",
       "      <td>-0.581608</td>\n",
       "      <td>0.318348</td>\n",
       "      <td>-0.846554</td>\n",
       "      <td>1</td>\n",
       "      <td>0</td>\n",
       "      <td>0</td>\n",
       "      <td>0</td>\n",
       "      <td>0</td>\n",
       "      <td>0</td>\n",
       "    </tr>\n",
       "  </tbody>\n",
       "</table>\n",
       "</div>"
      ],
      "text/plain": [
       "         x0        x1        x2        x3  article_L134QS  article_M145RS  \\\n",
       "0  1.292322 -1.649693 -0.151660  0.081925               1               0   \n",
       "1  1.312473  0.329074  0.775613  0.409907               0               1   \n",
       "2  1.045059 -0.966886  0.016355 -0.386974               0               0   \n",
       "3  0.348615 -0.977110  0.742465 -1.002131               1               0   \n",
       "4  1.293220 -0.581608  0.318348 -0.846554               1               0   \n",
       "\n",
       "   article_M375AZ  article_N4517AS  article_N537LQ  article_Q243RA  \n",
       "0               0                0               0               0  \n",
       "1               0                0               0               0  \n",
       "2               0                0               0               1  \n",
       "3               0                0               0               0  \n",
       "4               0                0               0               0  "
      ]
     },
     "execution_count": 20,
     "metadata": {},
     "output_type": "execute_result"
    }
   ],
   "source": [
    "# For a variable V with a NOMINAl scale consisting of n different values, it is often useful to recode them as n binary variables V1 ... Vn\n",
    "# where Vi indicates if V has the value i or not (values 0 or 1). \n",
    "#\n",
    "# Add hot encoding columns for articles\n",
    "dummies = pd.get_dummies(df[['article']], columns=['article'])\n",
    "Xsd = pd.concat([Xs,dummies], axis=1) # add dummy columns to the data frame\n",
    "Xsd.head()"
   ]
  },
  {
   "cell_type": "code",
   "execution_count": 21,
   "metadata": {},
   "outputs": [
    {
     "name": "stdout",
     "output_type": "stream",
     "text": [
      "Coefficients: \n",
      " [ 1.02666141  0.58291685  0.6315203   1.36325056 -0.01218797 -0.30414379\n",
      " -1.26388037  0.3105152   0.66939667  0.60030026]\n",
      "Intercept: \n",
      " 8.159347338180712\n",
      "Variance explained: 0.82\n"
     ]
    }
   ],
   "source": [
    "regr = linear_model.LinearRegression()\n",
    "regr.fit(Xsd, Y) \n",
    "print('Coefficients: \\n', regr.coef_) \n",
    "print('Intercept: \\n', regr.intercept_)\n",
    "print('Variance explained: %.2f' % regr.score(Xsd,Y))"
   ]
  },
  {
   "cell_type": "markdown",
   "metadata": {},
   "source": [
    "Interpretation: Variance explained geringfügig verbessert von 79% auf 82%"
   ]
  },
  {
   "cell_type": "markdown",
   "metadata": {},
   "source": [
    "### Schritt 3c: Input x0 hat scheinbar einen quadratischen Anteil im Zusammenhang mit y:  \n",
    "##### Wenn man einen zusätzlichen Input 'x0^2' zum Modell hinzufügt, kann auch ein lineares Modell so einen Zusammenhang erkennen. "
   ]
  },
  {
   "cell_type": "code",
   "execution_count": 22,
   "metadata": {},
   "outputs": [
    {
     "data": {
      "text/plain": [
       "Text(0, 0.5, 'y')"
      ]
     },
     "execution_count": 22,
     "metadata": {},
     "output_type": "execute_result"
    },
    {
     "data": {
      "image/png": "[encoded data removed]",
      "text/plain": [
       "<Figure size 432x288 with 1 Axes>"
      ]
     },
     "metadata": {
      "needs_background": "light"
     },
     "output_type": "display_data"
    }
   ],
   "source": [
    "plt.scatter(Xsd['x0'],Y) \n",
    "plt.xlabel('x0')\n",
    "plt.ylabel('y')"
   ]
  },
  {
   "cell_type": "code",
   "execution_count": 23,
   "metadata": {},
   "outputs": [
    {
     "data": {
      "text/html": [
       "<div>\n",
       "<style scoped>\n",
       "    .dataframe tbody tr th:only-of-type {\n",
       "        vertical-align: middle;\n",
       "    }\n",
       "\n",
       "    .dataframe tbody tr th {\n",
       "        vertical-align: top;\n",
       "    }\n",
       "\n",
       "    .dataframe thead th {\n",
       "        text-align: right;\n",
       "    }\n",
       "</style>\n",
       "<table border=\"1\" class=\"dataframe\">\n",
       "  <thead>\n",
       "    <tr style=\"text-align: right;\">\n",
       "      <th></th>\n",
       "      <th>x0</th>\n",
       "      <th>x1</th>\n",
       "      <th>x2</th>\n",
       "      <th>x3</th>\n",
       "      <th>article_L134QS</th>\n",
       "      <th>article_M145RS</th>\n",
       "      <th>article_M375AZ</th>\n",
       "      <th>article_N4517AS</th>\n",
       "      <th>article_N537LQ</th>\n",
       "      <th>article_Q243RA</th>\n",
       "      <th>x0_sq</th>\n",
       "    </tr>\n",
       "  </thead>\n",
       "  <tbody>\n",
       "    <tr>\n",
       "      <th>0</th>\n",
       "      <td>1.292322</td>\n",
       "      <td>-1.649693</td>\n",
       "      <td>-0.151660</td>\n",
       "      <td>0.081925</td>\n",
       "      <td>1</td>\n",
       "      <td>0</td>\n",
       "      <td>0</td>\n",
       "      <td>0</td>\n",
       "      <td>0</td>\n",
       "      <td>0</td>\n",
       "      <td>1.670097</td>\n",
       "    </tr>\n",
       "    <tr>\n",
       "      <th>1</th>\n",
       "      <td>1.312473</td>\n",
       "      <td>0.329074</td>\n",
       "      <td>0.775613</td>\n",
       "      <td>0.409907</td>\n",
       "      <td>0</td>\n",
       "      <td>1</td>\n",
       "      <td>0</td>\n",
       "      <td>0</td>\n",
       "      <td>0</td>\n",
       "      <td>0</td>\n",
       "      <td>1.722586</td>\n",
       "    </tr>\n",
       "    <tr>\n",
       "      <th>2</th>\n",
       "      <td>1.045059</td>\n",
       "      <td>-0.966886</td>\n",
       "      <td>0.016355</td>\n",
       "      <td>-0.386974</td>\n",
       "      <td>0</td>\n",
       "      <td>0</td>\n",
       "      <td>0</td>\n",
       "      <td>0</td>\n",
       "      <td>0</td>\n",
       "      <td>1</td>\n",
       "      <td>1.092148</td>\n",
       "    </tr>\n",
       "    <tr>\n",
       "      <th>3</th>\n",
       "      <td>0.348615</td>\n",
       "      <td>-0.977110</td>\n",
       "      <td>0.742465</td>\n",
       "      <td>-1.002131</td>\n",
       "      <td>1</td>\n",
       "      <td>0</td>\n",
       "      <td>0</td>\n",
       "      <td>0</td>\n",
       "      <td>0</td>\n",
       "      <td>0</td>\n",
       "      <td>0.121533</td>\n",
       "    </tr>\n",
       "    <tr>\n",
       "      <th>4</th>\n",
       "      <td>1.293220</td>\n",
       "      <td>-0.581608</td>\n",
       "      <td>0.318348</td>\n",
       "      <td>-0.846554</td>\n",
       "      <td>1</td>\n",
       "      <td>0</td>\n",
       "      <td>0</td>\n",
       "      <td>0</td>\n",
       "      <td>0</td>\n",
       "      <td>0</td>\n",
       "      <td>1.672417</td>\n",
       "    </tr>\n",
       "  </tbody>\n",
       "</table>\n",
       "</div>"
      ],
      "text/plain": [
       "         x0        x1        x2        x3  article_L134QS  article_M145RS  \\\n",
       "0  1.292322 -1.649693 -0.151660  0.081925               1               0   \n",
       "1  1.312473  0.329074  0.775613  0.409907               0               1   \n",
       "2  1.045059 -0.966886  0.016355 -0.386974               0               0   \n",
       "3  0.348615 -0.977110  0.742465 -1.002131               1               0   \n",
       "4  1.293220 -0.581608  0.318348 -0.846554               1               0   \n",
       "\n",
       "   article_M375AZ  article_N4517AS  article_N537LQ  article_Q243RA     x0_sq  \n",
       "0               0                0               0               0  1.670097  \n",
       "1               0                0               0               0  1.722586  \n",
       "2               0                0               0               1  1.092148  \n",
       "3               0                0               0               0  0.121533  \n",
       "4               0                0               0               0  1.672417  "
      ]
     },
     "execution_count": 23,
     "metadata": {},
     "output_type": "execute_result"
    }
   ],
   "source": [
    "# Add column with x0*x0 and name it 'x0_sq'\n",
    "Xsdq = Xsd\n",
    "Xsdq['x0_sq'] = Xsd['x0']*Xsd['x0'] # add it to training data set\n",
    "Xsdq.head()"
   ]
  },
  {
   "cell_type": "code",
   "execution_count": 24,
   "metadata": {},
   "outputs": [
    {
     "name": "stdout",
     "output_type": "stream",
     "text": [
      "Coefficients: \n",
      " [ 1.13395602  0.31071559  0.5272329   1.33036103 -0.16290279 -0.32420538\n",
      " -1.32770476  0.01441453  0.96890928  0.83148912  0.71762532]\n",
      "Intercept: \n",
      " 7.432715122397953\n",
      "Mean squared error: 1.58\n",
      "Variance of target variable: 7.69\n",
      "Variance explained: 0.79\n"
     ]
    }
   ],
   "source": [
    "regr = linear_model.LinearRegression()\n",
    "regr.fit(Xsdq, Y) \n",
    "print('Coefficients: \\n', regr.coef_) \n",
    "print('Intercept: \\n', regr.intercept_)\n",
    "print(\"Mean squared error: %.2f\" % mean_squared_error(Y, pred))\n",
    "print(\"Variance of target variable: %.2f\" % np.var(Y))\n",
    "print('Variance explained: %.2f' % r2_score(Y, pred))"
   ]
  },
  {
   "cell_type": "markdown",
   "metadata": {},
   "source": [
    "#### Interpretation: Variance explained erheblich verbessert auf 89%"
   ]
  },
  {
   "cell_type": "markdown",
   "metadata": {},
   "source": [
    "### Schritt 4 Was wir noch nicht geklärt haben: \n",
    "In wie weit hat das Modell Zufälligkeiten in den Daten sinnloserweise auswendig gelernt (Overfitting), vs. in wie weit haben die vom Modell erfassten Zusammenhänge auch Gültigkeit für die Zukunft? Alle Schlussfolgerungen, die wir bisher gezogen haben, stehen unter diesem Vorbehalt.  Es gibt zwei gängige Ansätze, um dies zu untersuchen:\n",
    "##### 1. Statistische Ansätze (Konfidenzintervalle, P-Value, Hypothesentests, Signifikanz)\n",
    "##### 2. Aufteilung der Daten in Trainings- und Testmenge"
   ]
  },
  {
   "cell_type": "markdown",
   "metadata": {},
   "source": [
    "#### Schritt 4 Variante 1 (statistischer Ansatz): Signifikanz prüfen"
   ]
  },
  {
   "cell_type": "markdown",
   "metadata": {},
   "source": [
    "Lineare Regression gibt es auch in diversen Statistik-Paketen. Dort werden dann auch mehr Informationen mit ausgegeben:"
   ]
  },
  {
   "cell_type": "code",
   "execution_count": 25,
   "metadata": {},
   "outputs": [
    {
     "name": "stdout",
     "output_type": "stream",
     "text": [
      "                            OLS Regression Results                            \n",
      "==============================================================================\n",
      "Dep. Variable:                      y   R-squared:                       0.893\n",
      "Model:                            OLS   Adj. R-squared:                  0.866\n",
      "Method:                 Least Squares   F-statistic:                     32.54\n",
      "Date:                Wed, 25 Nov 2020   Prob (F-statistic):           7.50e-16\n",
      "Time:                        12:36:37   Log-Likelihood:                -66.083\n",
      "No. Observations:                  50   AIC:                             154.2\n",
      "Df Residuals:                      39   BIC:                             175.2\n",
      "Df Model:                          10                                         \n",
      "Covariance Type:            nonrobust                                         \n",
      "===================================================================================\n",
      "                      coef    std err          t      P>|t|      [0.025      0.975]\n",
      "-----------------------------------------------------------------------------------\n",
      "const               6.3709      0.186     34.200      0.000       5.994       6.748\n",
      "x0                  1.1340      0.153      7.426      0.000       0.825       1.443\n",
      "x1                  0.3107      0.236      1.317      0.196      -0.167       0.788\n",
      "x2                  0.5272      0.263      2.006      0.052      -0.004       1.059\n",
      "x3                  1.3304      0.300      4.429      0.000       0.723       1.938\n",
      "article_L134QS      0.8989      0.288      3.126      0.003       0.317       1.481\n",
      "article_M145RS      0.7376      0.338      2.182      0.035       0.054       1.421\n",
      "article_M375AZ     -0.2659      0.550     -0.484      0.631      -1.378       0.846\n",
      "article_N4517AS     1.0762      0.328      3.277      0.002       0.412       1.741\n",
      "article_N537LQ      2.0307      0.373      5.442      0.000       1.276       2.786\n",
      "article_Q243RA      1.8933      0.397      4.765      0.000       1.090       2.697\n",
      "x0_sq               0.7176      0.140      5.109      0.000       0.433       1.002\n",
      "==============================================================================\n",
      "Omnibus:                        1.933   Durbin-Watson:                   2.532\n",
      "Prob(Omnibus):                  0.380   Jarque-Bera (JB):                1.174\n",
      "Skew:                           0.345   Prob(JB):                        0.556\n",
      "Kurtosis:                       3.297   Cond. No.                     2.07e+16\n",
      "==============================================================================\n",
      "\n",
      "Warnings:\n",
      "[1] Standard Errors assume that the covariance matrix of the errors is correctly specified.\n",
      "[2] The smallest eigenvalue is 3.52e-31. This might indicate that there are\n",
      "strong multicollinearity problems or that the design matrix is singular.\n"
     ]
    }
   ],
   "source": [
    "import statsmodels.api as sm\n",
    "# This linear model does not use a constant, i.e. only y = a1*x1 + ... + an*xn , and NOT y = a1*x1 + ... + an*xn + c,\n",
    "# However, if one adds a column to X with only 1's, then the coefficient of this column has the same effect as the intercept c above\n",
    "Xsdqe = sm.add_constant(Xsdq)\n",
    "\n",
    "# Learn the \"Ordinary Least Squares\" model\n",
    "est = sm.OLS(Y, Xsdqe) # Create the object and hand it the data\n",
    "est = est.fit() # Let it compute the regression coefficients\n",
    "print(est.summary()) # show the results - including all sorts of metrics"
   ]
  },
  {
   "cell_type": "markdown",
   "metadata": {},
   "source": [
    "##### Interpretation:\n",
    "Die letzten beiden Spalten zeigen ein 95% Konfidenzintervall für den jeweiligen Koeffizienten. Wenn das Konfidenzintervall den Wert 0 enthält, ist es also durchaus auch möglich, dass im wahren Sachverhalt der Wert des Koeffizienten Null ist, und nur durch Zufall beim Zusammenstellen der Daten auf den gegebenen Daten ein (schwacher) Zusammenhang vorliegt.\n",
    "\n",
    "Spalte \"P > |t|\" enthält den P-Wert für die Nullhypothese \"dieser Koeffizient ist im wahren Sachverhalt 0\". Wenn der P-Wert nahe 0 ist, ist einigermaßen sicher, dass die Nullhypothese falsch ist. Wenn der P-Wert dagegen z.B. 0.196 beträgt, so heißt das folgendes: Wenn im wahren Sachverhalt dieser Koeffizient 0 ist, dann ist die Wahrscheinlichkeit, dass einfach durch Zufall bei der Zusammenstellung einer Stichprobe der gegebenen Größe in der Stichprobe ein Zusammenhang in mindestens der beobachteten Stärke auftritt, 19.6%. Im Umkehrschluss kann man sich also nicht sehr sicher sein, dass der Koeffizient nicht im wahren Sachverhalt 0 ist.  "
   ]
  },
  {
   "cell_type": "markdown",
   "metadata": {},
   "source": [
    "##### WICHTIG: Die berechneten statistischen Sicherheiten gelten nur unter bestimten Annahmen. (Siehe z.B. Warning [1]. Wenn Sie nicht wissen, was diese Annahmen bedeuten, oder ob sie zutreffen (was in der Praxis oft so sein wird), dürfen Sie den statistischen Aussagen nicht vertrauen!"
   ]
  },
  {
   "cell_type": "markdown",
   "metadata": {},
   "source": [
    "####  Schritt 4, Variante 2 (Trainings und Testmenge)"
   ]
  },
  {
   "cell_type": "markdown",
   "metadata": {},
   "source": [
    "Bei diesem Vorgehen teilt man die zur Verfügung stehenden Daten in Trainings- und Testmenge auf, Erstellt das Modell ausschließlich auf Basis der Trainingsmenge, und prüft dann, ob das Modell auf der Testmenge ähnlich gut funktioniert, wie auf der Trainingsmenge. Falls das der Fall ist, geht man davon aus, dass die vom Modell erfassten Zusammenhänge nicht nur auf den vorliegenden Daten zutreffen, sondern generell für diesen Sachverhalt gelten. Funktioniert das Modell dagegen auf der Testmenge viel schlechter auf der Trainingsmenge, liegt Overfitting vor, d.h. man geht davon aus, dass die vom Modell erfassten Zusammenhänge zu erheblichem Teil nur Zufallsartefakte in der Trainingsmenge sind.  "
   ]
  },
  {
   "cell_type": "markdown",
   "metadata": {},
   "source": [
    "Im Allgemeinen tritt das Overfitting-Problem umso eher auf, je weniger Daten zur Verfügung stehen, und desto komplexer das gelernte Modell ist (Anzahl gelernter Parameter)."
   ]
  },
  {
   "cell_type": "markdown",
   "metadata": {},
   "source": [
    "Wir haben bereits ganz am Anfang einen separaten Testdatensatz df_test geladen, den wir bisher nicht benutzt haben "
   ]
  },
  {
   "cell_type": "markdown",
   "metadata": {},
   "source": [
    "Das lineare Modell wurde auf umskalierten und um diverse Spalten erweiterten Inputs trainiert. Damit es auf die Testdaten angewendet werden kann, müssen diese in analoger Weise transformiert werden:"
   ]
  },
  {
   "cell_type": "code",
   "execution_count": 26,
   "metadata": {},
   "outputs": [],
   "source": [
    "Y_t = df_test['y']\n",
    "\n",
    "X_t = df_test[['x0','x1','x2','x3']]\n",
    "\n",
    "Xscaled_t = scaler.fit_transform(X_t) # Achtung: Der Scaler wurde NICHT neu gefitted, \n",
    "# d.h. die auf der Trainingsmenge Skalierungsfaktoren werden unverändert auf die Testmenge angewendet. \n",
    "# Das Modell soll ja auf der Testmenge Variablen vorfinden, bei denen derselbe Wert dassselbe bedeutet \n",
    "# wie auf der Trainingsmenge. \n",
    "Xs_t = pd.DataFrame(data=Xscaled_t, columns = X_t.columns); \n",
    "\n",
    "dummies_t = pd.get_dummies(df_test[['article']], columns=['article'])\n",
    "Xsd_t = pd.concat([Xs_t,dummies_t], axis=1)\n",
    "\n",
    "Xsdq_t = Xsd_t\n",
    "Xsdq_t['x0_sq'] = Xsd_t['x0']*Xsd_t['x0'] # add it to training data set"
   ]
  },
  {
   "cell_type": "code",
   "execution_count": 27,
   "metadata": {},
   "outputs": [
    {
     "name": "stdout",
     "output_type": "stream",
     "text": [
      "On Test set:\n",
      "Mean squared error: 1.60\n",
      "Variance of target variable: 6.98\n",
      "Variance explained: 0.77\n"
     ]
    }
   ],
   "source": [
    "# Das Regressionsmodell regr wird NICHT neu auf den Testdaten gefitted, sondern das weiter oben auf der Trainingemenge \n",
    "# trainierte Modell wird nur auf die Testdaten angewendet:\n",
    "\n",
    "pred_t = regr.predict(Xsdq_t) # Apply this model and compute predictions for each line in Xsdq_t\n",
    "\n",
    "# Evaluate the error \n",
    "print('On Test set:')\n",
    "print(\"Mean squared error: %.2f\" % mean_squared_error(Y_t, pred_t))\n",
    "print(\"Variance of target variable: %.2f\" % np.var(Y_t))\n",
    "print('Variance explained: %.2f' % r2_score(Y_t, pred_t))"
   ]
  },
  {
   "cell_type": "code",
   "execution_count": null,
   "metadata": {},
   "outputs": [],
   "source": []
  },
  {
   "cell_type": "markdown",
   "metadata": {},
   "source": [
    "##### Interpretation:\n",
    "Mean squared error und damit auch variance explained sind auf der Testmenge nicht viel schlechter als auf der Trainingsmenge. Es liegt also vermutlich kein starkes Overfitting vor. Wir können also davon ausgehen, dass die vom Modell repräsentierten Muster auch im wahren Sachverhalt bestehen - nicht nur zufällig in den uns vorliegenden Daten. \n",
    "\n",
    "Wir haben hier allerdings eine unrealistisch großes Testmenge benutzt. Bei normaler Größe wäre die Performance auf der Testmenge erheblich zufallsabhängig (von der Zusammensetzung der Testmenge) und somit auch nicht ohne Schätzfehler. "
   ]
  },
  {
   "cell_type": "markdown",
   "metadata": {},
   "source": [
    "#### "
   ]
  },
  {
   "cell_type": "markdown",
   "metadata": {},
   "source": [
    "## Ergebnisse insgesamt:"
   ]
  },
  {
   "cell_type": "markdown",
   "metadata": {},
   "source": [
    "1. Die Inputs x3, x0^2 und x0 sind im Rahmen einer linearen Analyse deutlich wichtiger, um y zu prognostizieren, als x1, x2 oder auch \"welcher Artikel wurde produziert\"\n",
    "2. x1 und x2 stehen auch in einem deutlichen Zusammenhang zur Zielgröße y. Die hinsichtlich y in x1 und x2 enthaltene Information ist aber offenbar großenteils redundant zu der in x0, x3 enthaltenen.  \n",
    "3. Die zur Verfügung stehende Datenmenge war ausreichend, um einigermaßen sicher sein zu können, dass die Ergebnisse nicht einfach nur durch die zufällige Datenauswahl in der vorliegenden Stichprobe sind. "
   ]
  },
  {
   "cell_type": "markdown",
   "metadata": {},
   "source": [
    "#### \n"
   ]
  },
  {
   "cell_type": "markdown",
   "metadata": {},
   "source": [
    "## Erkenntnisse zur Vorgehensweise für Datenanalysen:\n",
    "1. Als erstes die Datenqualität prüfen, bevor man viel Zeit in aufwändige Analysen investiert.\n",
    "2. Ermitteln, welche Merkmale welchen Typ haben (nominal, ordinal, metrisch). Man muss sich im Klaren sein, welche Verfahren für welche Merkmalstypen geeignet sind, und diese ggf. zuerst geeignet transformieren (z.B. 1 hot encoding)\n",
    "3. Korrelation eines Inputs mit der Zielvariablen sagt etwas darüber aus, wie gut der Input sich eignet, um die Zielvariable mit einem linearen Modell zu prognostizieren, wenn dies die einzige verfügbare Inputvariable ist. Multivariate lineare Regression ermittelt dagegen, wie stark welcher Input zur optimalen Prognose beiträgt, wenn man alle Inputs gleichzeitig benutzt. Im Unterschied zur Korrelation erscheinen hier Inputs als unwichtig, wenn die Information, die sie beisteuern können, redundant zu der in anderen Inputs enthaltenen Informationen ist. Man kann so potenziell direkte von indirekten Zusammenhängen unterscheiden.\n",
    "4. Die Interpretation von Regressionskoeffizienten setzt voraus, dass alle Inputs in vergleichbarer Weise skaliert sind. AUch viele Verfahren des Maschinellen Lernens (z.B. neuronale Netze) funktionieren schlecht, wenn die inputs stark abweichend skaliert sind. (--> Vorher auf ähnliche Skala umskalieren)\n",
    "5. Sachverhalte, die ein bestimmter Modelltyp nicht darstellen kann (z.B. quadratische Zusammenhänge für ein lineares Modell), können nicht nur durch mächtigere Modelltypen behandelt werden, sondern auch, indem man zusätzliche, nichtlinear transformierte Inputs hinzufügt. (Hier z.B. x0^2 )"
   ]
  },
  {
   "cell_type": "code",
   "execution_count": null,
   "metadata": {},
   "outputs": [],
   "source": []
  }
 ],
 "metadata": {
  "kernelspec": {
   "display_name": "Python 3",
   "language": "python",
   "name": "python3"
  },
  "language_info": {
   "codemirror_mode": {
    "name": "ipython",
    "version": 3
   },
   "file_extension": ".py",
   "mimetype": "text/x-python",
   "name": "python",
   "nbconvert_exporter": "python",
   "pygments_lexer": "ipython3",
   "version": "3.8.3"
  }
 },
 "nbformat": 4,
 "nbformat_minor": 4
}
